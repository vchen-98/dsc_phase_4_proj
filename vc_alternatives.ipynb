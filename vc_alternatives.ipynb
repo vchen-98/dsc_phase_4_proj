{
 "cells": [
  {
   "cell_type": "code",
   "execution_count": 1,
   "metadata": {},
   "outputs": [
    {
     "ename": "Exception",
     "evalue": "Java gateway process exited before sending its port number",
     "output_type": "error",
     "traceback": [
      "\u001b[1;31m---------------------------------------------------------------------------\u001b[0m",
      "\u001b[1;31mException\u001b[0m                                 Traceback (most recent call last)",
      "\u001b[1;32m<ipython-input-1-3ee2896cf61c>\u001b[0m in \u001b[0;36m<module>\u001b[1;34m\u001b[0m\n\u001b[0;32m      1\u001b[0m \u001b[1;32mimport\u001b[0m \u001b[0mpyspark\u001b[0m\u001b[1;33m\u001b[0m\u001b[1;33m\u001b[0m\u001b[0m\n\u001b[1;32m----> 2\u001b[1;33m \u001b[0msc\u001b[0m \u001b[1;33m=\u001b[0m \u001b[0mpyspark\u001b[0m\u001b[1;33m.\u001b[0m\u001b[0mSparkContext\u001b[0m\u001b[1;33m(\u001b[0m\u001b[1;34m'local[*]'\u001b[0m\u001b[1;33m)\u001b[0m\u001b[1;33m\u001b[0m\u001b[1;33m\u001b[0m\u001b[0m\n\u001b[0m\u001b[0;32m      3\u001b[0m \u001b[0mrdd\u001b[0m \u001b[1;33m=\u001b[0m \u001b[0msc\u001b[0m\u001b[1;33m.\u001b[0m\u001b[0mparallelize\u001b[0m\u001b[1;33m(\u001b[0m\u001b[0mrange\u001b[0m\u001b[1;33m(\u001b[0m\u001b[1;36m1000\u001b[0m\u001b[1;33m)\u001b[0m\u001b[1;33m)\u001b[0m\u001b[1;33m\u001b[0m\u001b[1;33m\u001b[0m\u001b[0m\n\u001b[0;32m      4\u001b[0m \u001b[0mrdd\u001b[0m\u001b[1;33m.\u001b[0m\u001b[0mtakeSample\u001b[0m\u001b[1;33m(\u001b[0m\u001b[1;32mFalse\u001b[0m\u001b[1;33m,\u001b[0m \u001b[1;36m5\u001b[0m\u001b[1;33m)\u001b[0m\u001b[1;33m\u001b[0m\u001b[1;33m\u001b[0m\u001b[0m\n",
      "\u001b[1;32m~\\anaconda3\\envs\\learn-env\\lib\\site-packages\\pyspark\\context.py\u001b[0m in \u001b[0;36m__init__\u001b[1;34m(self, master, appName, sparkHome, pyFiles, environment, batchSize, serializer, conf, gateway, jsc, profiler_cls)\u001b[0m\n\u001b[0;32m    126\u001b[0m                 \" is not allowed as it is a security risk.\")\n\u001b[0;32m    127\u001b[0m \u001b[1;33m\u001b[0m\u001b[0m\n\u001b[1;32m--> 128\u001b[1;33m         \u001b[0mSparkContext\u001b[0m\u001b[1;33m.\u001b[0m\u001b[0m_ensure_initialized\u001b[0m\u001b[1;33m(\u001b[0m\u001b[0mself\u001b[0m\u001b[1;33m,\u001b[0m \u001b[0mgateway\u001b[0m\u001b[1;33m=\u001b[0m\u001b[0mgateway\u001b[0m\u001b[1;33m,\u001b[0m \u001b[0mconf\u001b[0m\u001b[1;33m=\u001b[0m\u001b[0mconf\u001b[0m\u001b[1;33m)\u001b[0m\u001b[1;33m\u001b[0m\u001b[1;33m\u001b[0m\u001b[0m\n\u001b[0m\u001b[0;32m    129\u001b[0m         \u001b[1;32mtry\u001b[0m\u001b[1;33m:\u001b[0m\u001b[1;33m\u001b[0m\u001b[1;33m\u001b[0m\u001b[0m\n\u001b[0;32m    130\u001b[0m             self._do_init(master, appName, sparkHome, pyFiles, environment, batchSize, serializer,\n",
      "\u001b[1;32m~\\anaconda3\\envs\\learn-env\\lib\\site-packages\\pyspark\\context.py\u001b[0m in \u001b[0;36m_ensure_initialized\u001b[1;34m(cls, instance, gateway, conf)\u001b[0m\n\u001b[0;32m    318\u001b[0m         \u001b[1;32mwith\u001b[0m \u001b[0mSparkContext\u001b[0m\u001b[1;33m.\u001b[0m\u001b[0m_lock\u001b[0m\u001b[1;33m:\u001b[0m\u001b[1;33m\u001b[0m\u001b[1;33m\u001b[0m\u001b[0m\n\u001b[0;32m    319\u001b[0m             \u001b[1;32mif\u001b[0m \u001b[1;32mnot\u001b[0m \u001b[0mSparkContext\u001b[0m\u001b[1;33m.\u001b[0m\u001b[0m_gateway\u001b[0m\u001b[1;33m:\u001b[0m\u001b[1;33m\u001b[0m\u001b[1;33m\u001b[0m\u001b[0m\n\u001b[1;32m--> 320\u001b[1;33m                 \u001b[0mSparkContext\u001b[0m\u001b[1;33m.\u001b[0m\u001b[0m_gateway\u001b[0m \u001b[1;33m=\u001b[0m \u001b[0mgateway\u001b[0m \u001b[1;32mor\u001b[0m \u001b[0mlaunch_gateway\u001b[0m\u001b[1;33m(\u001b[0m\u001b[0mconf\u001b[0m\u001b[1;33m)\u001b[0m\u001b[1;33m\u001b[0m\u001b[1;33m\u001b[0m\u001b[0m\n\u001b[0m\u001b[0;32m    321\u001b[0m                 \u001b[0mSparkContext\u001b[0m\u001b[1;33m.\u001b[0m\u001b[0m_jvm\u001b[0m \u001b[1;33m=\u001b[0m \u001b[0mSparkContext\u001b[0m\u001b[1;33m.\u001b[0m\u001b[0m_gateway\u001b[0m\u001b[1;33m.\u001b[0m\u001b[0mjvm\u001b[0m\u001b[1;33m\u001b[0m\u001b[1;33m\u001b[0m\u001b[0m\n\u001b[0;32m    322\u001b[0m \u001b[1;33m\u001b[0m\u001b[0m\n",
      "\u001b[1;32m~\\anaconda3\\envs\\learn-env\\lib\\site-packages\\pyspark\\java_gateway.py\u001b[0m in \u001b[0;36mlaunch_gateway\u001b[1;34m(conf, popen_kwargs)\u001b[0m\n\u001b[0;32m    103\u001b[0m \u001b[1;33m\u001b[0m\u001b[0m\n\u001b[0;32m    104\u001b[0m             \u001b[1;32mif\u001b[0m \u001b[1;32mnot\u001b[0m \u001b[0mos\u001b[0m\u001b[1;33m.\u001b[0m\u001b[0mpath\u001b[0m\u001b[1;33m.\u001b[0m\u001b[0misfile\u001b[0m\u001b[1;33m(\u001b[0m\u001b[0mconn_info_file\u001b[0m\u001b[1;33m)\u001b[0m\u001b[1;33m:\u001b[0m\u001b[1;33m\u001b[0m\u001b[1;33m\u001b[0m\u001b[0m\n\u001b[1;32m--> 105\u001b[1;33m                 \u001b[1;32mraise\u001b[0m \u001b[0mException\u001b[0m\u001b[1;33m(\u001b[0m\u001b[1;34m\"Java gateway process exited before sending its port number\"\u001b[0m\u001b[1;33m)\u001b[0m\u001b[1;33m\u001b[0m\u001b[1;33m\u001b[0m\u001b[0m\n\u001b[0m\u001b[0;32m    106\u001b[0m \u001b[1;33m\u001b[0m\u001b[0m\n\u001b[0;32m    107\u001b[0m             \u001b[1;32mwith\u001b[0m \u001b[0mopen\u001b[0m\u001b[1;33m(\u001b[0m\u001b[0mconn_info_file\u001b[0m\u001b[1;33m,\u001b[0m \u001b[1;34m\"rb\"\u001b[0m\u001b[1;33m)\u001b[0m \u001b[1;32mas\u001b[0m \u001b[0minfo\u001b[0m\u001b[1;33m:\u001b[0m\u001b[1;33m\u001b[0m\u001b[1;33m\u001b[0m\u001b[0m\n",
      "\u001b[1;31mException\u001b[0m: Java gateway process exited before sending its port number"
     ]
    }
   ],
   "source": [
    "import pyspark\n",
    "sc = pyspark.SparkContext('local[*]')\n",
    "rdd = sc.parallelize(range(1000))\n",
    "rdd.takeSample(False, 5)"
   ]
  },
  {
   "cell_type": "code",
   "execution_count": null,
   "metadata": {},
   "outputs": [],
   "source": [
    "# import necessary libraries\n",
    "from pyspark.sql import SparkSession\n",
    "\n",
    "# instantiate SparkSession object\n",
    "spark = SparkSession.builder.master('local').getOrCreate()\n",
    "\n",
    "spark = SparkSession\\\n",
    "        .builder\\\n",
    "        .appName('ALSExample').config('spark.driver.host', 'localhost')\\\n",
    "        .getOrCreate()"
   ]
  },
  {
   "cell_type": "code",
   "execution_count": null,
   "metadata": {},
   "outputs": [],
   "source": [
    "# read in the dataset into pyspark DataFrame\n",
    "movie_ratings = spark.read.csv('./small_data/ml-latest-small/ratings.csv', header='true', inferSchema='true')"
   ]
  },
  {
   "cell_type": "code",
   "execution_count": null,
   "metadata": {},
   "outputs": [],
   "source": [
    "movie_ratings = movie_ratings.drop('timestamp')"
   ]
  },
  {
   "cell_type": "code",
   "execution_count": null,
   "metadata": {},
   "outputs": [],
   "source": [
    "from pyspark.ml.evaluation import RegressionEvaluator\n",
    "\n",
    "from pyspark.ml.recommendation import ALS\n",
    "\n",
    "# split into training and testing sets\n",
    "(training, test) = movie_ratings.randomSplit([0.8, 0.2])\n",
    "\n",
    "# Build the recommendation model using ALS on the training data\n",
    "# Note we set cold start strategy to 'drop' to ensure we don't get NaN evaluation metrics\n",
    "als = ALS(maxIter=5,rank=4, regParam=0.01, userCol='userId', itemCol='movieId', ratingCol='rating',\n",
    "          coldStartStrategy='drop')\n",
    "\n",
    "# fit the ALS model to the training set\n",
    "model = als.fit(training)"
   ]
  },
  {
   "cell_type": "code",
   "execution_count": 8,
   "metadata": {},
   "outputs": [
    {
     "ename": "NameError",
     "evalue": "name 'model' is not defined",
     "output_type": "error",
     "traceback": [
      "\u001b[1;31m---------------------------------------------------------------------------\u001b[0m",
      "\u001b[1;31mNameError\u001b[0m                                 Traceback (most recent call last)",
      "\u001b[1;32m<ipython-input-8-f178ddc2469d>\u001b[0m in \u001b[0;36m<module>\u001b[1;34m\u001b[0m\n\u001b[0;32m      3\u001b[0m \u001b[1;33m\u001b[0m\u001b[0m\n\u001b[0;32m      4\u001b[0m \u001b[1;31m# Evaluate the model by computing the RMSE on the test data\u001b[0m\u001b[1;33m\u001b[0m\u001b[1;33m\u001b[0m\u001b[1;33m\u001b[0m\u001b[0m\n\u001b[1;32m----> 5\u001b[1;33m \u001b[0mpredictions\u001b[0m \u001b[1;33m=\u001b[0m \u001b[0mmodel\u001b[0m\u001b[1;33m.\u001b[0m\u001b[0mtransform\u001b[0m\u001b[1;33m(\u001b[0m\u001b[0mtest\u001b[0m\u001b[1;33m)\u001b[0m\u001b[1;33m\u001b[0m\u001b[1;33m\u001b[0m\u001b[0m\n\u001b[0m\u001b[0;32m      6\u001b[0m evaluator = RegressionEvaluator(metricName='rmse', labelCol='rating',\n\u001b[0;32m      7\u001b[0m                                 predictionCol='prediction')\n",
      "\u001b[1;31mNameError\u001b[0m: name 'model' is not defined"
     ]
    }
   ],
   "source": [
    "# importing appropriate library\n",
    "from pyspark.ml.evaluation import RegressionEvaluator\n",
    "\n",
    "# Evaluate the model by computing the RMSE on the test data\n",
    "predictions = model.transform(test)\n",
    "evaluator = RegressionEvaluator(metricName='rmse', labelCol='rating',\n",
    "                                predictionCol='prediction')\n",
    "rmse = evaluator.evaluate(predictions)\n",
    "print('Root-mean-square error = ' + str(rmse))"
   ]
  },
  {
   "cell_type": "code",
   "execution_count": null,
   "metadata": {},
   "outputs": [],
   "source": [
    "from pyspark.ml.tuning import CrossValidator, ParamGridBuilder\n",
    "\n",
    "# initialize the ALS model\n",
    "als_model = ALS(userCol='userId', itemCol='movieId', \n",
    "                ratingCol='rating', coldStartStrategy='drop')\n",
    "\n",
    "# create the parameter grid                 \n",
    "params = ParamGridBuilder()\\\n",
    "          .addGrid(als_model.regParam, [0.01, 0.001, 0.1])\\\n",
    "          .addGrid(als_model.rank, [4, 10, 50]).build()\n",
    "\n",
    "\n",
    "# instantiating crossvalidator estimator\n",
    "cv = CrossValidator(estimator=als_model, estimatorParamMaps=params,evaluator=evaluator,parallelism=4)\n",
    "best_model = cv.fit(movie_ratings)    \n",
    "\n",
    "# We see the best model has a rank of 50, so we will use that in our future models with this dataset\n",
    "best_model.bestModel.rank"
   ]
  },
  {
   "cell_type": "markdown",
   "metadata": {},
   "source": [
    "# Incorporating Movie Titles"
   ]
  },
  {
   "cell_type": "code",
   "execution_count": null,
   "metadata": {},
   "outputs": [],
   "source": [
    "movie_titles = spark.read.csv('./data/movies.csv',header='true',inferSchema='true')\n",
    "\n",
    "movie_titles.head(5)"
   ]
  },
  {
   "cell_type": "code",
   "execution_count": null,
   "metadata": {},
   "outputs": [],
   "source": [
    "def name_retriever(movie_id, movie_title_df):\n",
    "    return movie_title_df.where(movie_title_df.movieId == movie_id).take(1)[0]['title']"
   ]
  },
  {
   "cell_type": "code",
   "execution_count": null,
   "metadata": {},
   "outputs": [],
   "source": [
    "print(name_retriever(1023, movie_titles))"
   ]
  },
  {
   "cell_type": "markdown",
   "metadata": {},
   "source": [
    "# Getting Recs"
   ]
  },
  {
   "cell_type": "code",
   "execution_count": null,
   "metadata": {},
   "outputs": [],
   "source": [
    "users = movie_ratings.select(als.getUserCol()).distinct().limit(1)\n",
    "userSubsetRecs = model.recommendForUserSubset(users, 10)\n",
    "recs = userSubsetRecs.take(1)"
   ]
  },
  {
   "cell_type": "code",
   "execution_count": null,
   "metadata": {},
   "outputs": [],
   "source": [
    "# use indexing to obtain the movie id of top predicted rated item\n",
    "first_recommendation = recs[0]['recommendations'][0][0]\n",
    "\n",
    "# use the name retriever function to get the values\n",
    "name_retriever(first_recommendation,movie_titles)"
   ]
  },
  {
   "cell_type": "code",
   "execution_count": null,
   "metadata": {},
   "outputs": [],
   "source": [
    "recommendations = model.recommendForAllUsers(5)\n",
    "recommendations.where(recommendations.userId == 3).collect()"
   ]
  },
  {
   "cell_type": "markdown",
   "metadata": {},
   "source": [
    "# Preds for New User"
   ]
  },
  {
   "cell_type": "code",
   "execution_count": null,
   "metadata": {},
   "outputs": [],
   "source": [
    "[Row(movieId=3253, title='Wayne's World (1992)', genres='Comedy'),\n",
    " Row(movieId=2459, title='Texas Chainsaw Massacre, The (1974)', genres='Horror'),\n",
    " Row(movieId=2513, title='Pet Sematary (1989)', genres='Horror'),\n",
    " Row(movieId=6502, title='28 Days Later (2002)', genres='Action|Horror|Sci-Fi'),\n",
    " Row(movieId=1091, title='Weekend at Bernie's (1989)', genres='Comedy'),\n",
    "Row(movieId=441, title='Dazed and Confused (1993)', genres='Comedy'),\n",
    "Row(movieId=370, title='Naked Gun 33 1/3: The Final Insult (1994)', genres='Action|Comedy')]"
   ]
  },
  {
   "cell_type": "code",
   "execution_count": null,
   "metadata": {},
   "outputs": [],
   "source": [
    "def new_user_recs(user_id, new_ratings, rating_df, movie_title_df, num_recs):\n",
    "    # turn the new_recommendations list into a spark DataFrame\n",
    "    new_user_ratings = spark.createDataFrame(new_ratings,rating_df.columns)\n",
    "    \n",
    "    # combine the new ratings df with the rating_df\n",
    "    movie_ratings_combined = rating_df.union(new_user_ratings)\n",
    "    \n",
    "    # split the dataframe into a train and test set\n",
    "#     (training, test) = movie_ratings_combined.randomSplit([0.8, 0.2],seed=0)\n",
    "    \n",
    "    # create an ALS model and fit it\n",
    "    als = ALS(maxIter=5,rank=50, regParam=0.01, userCol=\"userId\", itemCol=\"movieId\", ratingCol=\"rating\",\n",
    "          coldStartStrategy=\"drop\")\n",
    "    model = als.fit(movie_ratings_combined)\n",
    "    \n",
    "    # make recommendations for all users using the recommendForAllUsers method\n",
    "    recommendations = model.recommendForAllUsers(num_recs)\n",
    "    \n",
    "    # get recommendations specifically for the new user that has been added to the DataFrame\n",
    "    recs_for_user = recommendations.where(recommendations.userId == user_id).take(1)\n",
    "    \n",
    "    for ranking, (movie_id, rating) in enumerate(recs_for_user[0]['recommendations']):\n",
    "        movie_string = name_retriever(movie_id,movie_title_df)\n",
    "        print('Recommendation {}: {}  | predicted score :{}'.format(ranking+1,movie_string,rating))"
   ]
  },
  {
   "cell_type": "code",
   "execution_count": null,
   "metadata": {},
   "outputs": [],
   "source": [
    "user_id = 100000\n",
    "user_ratings_1 = [(user_id,3253,5),\n",
    "                  (user_id,2459,5),\n",
    "                  (user_id,2513,4),\n",
    "                  (user_id,6502,5),\n",
    "                  (user_id,1091,5),\n",
    "                  (user_id,441,4)]\n",
    "new_user_recs(user_id,\n",
    "             new_ratings=user_ratings_1,\n",
    "             rating_df=movie_ratings,\n",
    "             movie_title_df=movie_titles,\n",
    "             num_recs = 10)"
   ]
  },
  {
   "cell_type": "markdown",
   "metadata": {},
   "source": [
    "# Content Filtering"
   ]
  },
  {
   "cell_type": "code",
   "execution_count": 23,
   "metadata": {},
   "outputs": [],
   "source": [
    "import pandas as pd\n",
    "import numpy as np\n",
    "import matplotlib.pyplot as plt"
   ]
  },
  {
   "cell_type": "code",
   "execution_count": 6,
   "metadata": {},
   "outputs": [
    {
     "data": {
      "text/html": [
       "<div>\n",
       "<style scoped>\n",
       "    .dataframe tbody tr th:only-of-type {\n",
       "        vertical-align: middle;\n",
       "    }\n",
       "\n",
       "    .dataframe tbody tr th {\n",
       "        vertical-align: top;\n",
       "    }\n",
       "\n",
       "    .dataframe thead th {\n",
       "        text-align: right;\n",
       "    }\n",
       "</style>\n",
       "<table border=\"1\" class=\"dataframe\">\n",
       "  <thead>\n",
       "    <tr style=\"text-align: right;\">\n",
       "      <th></th>\n",
       "      <th>movieId</th>\n",
       "      <th>title</th>\n",
       "      <th>genres</th>\n",
       "    </tr>\n",
       "  </thead>\n",
       "  <tbody>\n",
       "    <tr>\n",
       "      <th>0</th>\n",
       "      <td>1</td>\n",
       "      <td>Toy Story (1995)</td>\n",
       "      <td>Adventure|Animation|Children|Comedy|Fantasy</td>\n",
       "    </tr>\n",
       "    <tr>\n",
       "      <th>1</th>\n",
       "      <td>2</td>\n",
       "      <td>Jumanji (1995)</td>\n",
       "      <td>Adventure|Children|Fantasy</td>\n",
       "    </tr>\n",
       "    <tr>\n",
       "      <th>2</th>\n",
       "      <td>3</td>\n",
       "      <td>Grumpier Old Men (1995)</td>\n",
       "      <td>Comedy|Romance</td>\n",
       "    </tr>\n",
       "    <tr>\n",
       "      <th>3</th>\n",
       "      <td>4</td>\n",
       "      <td>Waiting to Exhale (1995)</td>\n",
       "      <td>Comedy|Drama|Romance</td>\n",
       "    </tr>\n",
       "    <tr>\n",
       "      <th>4</th>\n",
       "      <td>5</td>\n",
       "      <td>Father of the Bride Part II (1995)</td>\n",
       "      <td>Comedy</td>\n",
       "    </tr>\n",
       "  </tbody>\n",
       "</table>\n",
       "</div>"
      ],
      "text/plain": [
       "   movieId                               title  \\\n",
       "0        1                    Toy Story (1995)   \n",
       "1        2                      Jumanji (1995)   \n",
       "2        3             Grumpier Old Men (1995)   \n",
       "3        4            Waiting to Exhale (1995)   \n",
       "4        5  Father of the Bride Part II (1995)   \n",
       "\n",
       "                                        genres  \n",
       "0  Adventure|Animation|Children|Comedy|Fantasy  \n",
       "1                   Adventure|Children|Fantasy  \n",
       "2                               Comedy|Romance  \n",
       "3                         Comedy|Drama|Romance  \n",
       "4                                       Comedy  "
      ]
     },
     "execution_count": 6,
     "metadata": {},
     "output_type": "execute_result"
    }
   ],
   "source": [
    "movies = pd.read_csv('small_data/ml-latest-small/movies.csv')\n",
    "movies.head()"
   ]
  },
  {
   "cell_type": "code",
   "execution_count": 10,
   "metadata": {},
   "outputs": [
    {
     "data": {
      "text/html": [
       "<div>\n",
       "<style scoped>\n",
       "    .dataframe tbody tr th:only-of-type {\n",
       "        vertical-align: middle;\n",
       "    }\n",
       "\n",
       "    .dataframe tbody tr th {\n",
       "        vertical-align: top;\n",
       "    }\n",
       "\n",
       "    .dataframe thead th {\n",
       "        text-align: right;\n",
       "    }\n",
       "</style>\n",
       "<table border=\"1\" class=\"dataframe\">\n",
       "  <thead>\n",
       "    <tr style=\"text-align: right;\">\n",
       "      <th></th>\n",
       "      <th>userId</th>\n",
       "      <th>movieId</th>\n",
       "      <th>tag</th>\n",
       "      <th>timestamp</th>\n",
       "    </tr>\n",
       "  </thead>\n",
       "  <tbody>\n",
       "    <tr>\n",
       "      <th>0</th>\n",
       "      <td>2</td>\n",
       "      <td>60756</td>\n",
       "      <td>funny</td>\n",
       "      <td>1445714994</td>\n",
       "    </tr>\n",
       "    <tr>\n",
       "      <th>1</th>\n",
       "      <td>2</td>\n",
       "      <td>60756</td>\n",
       "      <td>Highly quotable</td>\n",
       "      <td>1445714996</td>\n",
       "    </tr>\n",
       "    <tr>\n",
       "      <th>2</th>\n",
       "      <td>2</td>\n",
       "      <td>60756</td>\n",
       "      <td>will ferrell</td>\n",
       "      <td>1445714992</td>\n",
       "    </tr>\n",
       "    <tr>\n",
       "      <th>3</th>\n",
       "      <td>2</td>\n",
       "      <td>89774</td>\n",
       "      <td>Boxing story</td>\n",
       "      <td>1445715207</td>\n",
       "    </tr>\n",
       "    <tr>\n",
       "      <th>4</th>\n",
       "      <td>2</td>\n",
       "      <td>89774</td>\n",
       "      <td>MMA</td>\n",
       "      <td>1445715200</td>\n",
       "    </tr>\n",
       "  </tbody>\n",
       "</table>\n",
       "</div>"
      ],
      "text/plain": [
       "   userId  movieId              tag   timestamp\n",
       "0       2    60756            funny  1445714994\n",
       "1       2    60756  Highly quotable  1445714996\n",
       "2       2    60756     will ferrell  1445714992\n",
       "3       2    89774     Boxing story  1445715207\n",
       "4       2    89774              MMA  1445715200"
      ]
     },
     "execution_count": 10,
     "metadata": {},
     "output_type": "execute_result"
    }
   ],
   "source": [
    "tags = pd.read_csv('small_data/ml-latest-small/tags.csv')\n",
    "tags.head()"
   ]
  },
  {
   "cell_type": "code",
   "execution_count": 8,
   "metadata": {},
   "outputs": [
    {
     "ename": "NameError",
     "evalue": "name 'all_genres' is not defined",
     "output_type": "error",
     "traceback": [
      "\u001b[1;31m---------------------------------------------------------------------------\u001b[0m",
      "\u001b[1;31mNameError\u001b[0m                                 Traceback (most recent call last)",
      "\u001b[1;32m<ipython-input-8-f660cabac227>\u001b[0m in \u001b[0;36m<module>\u001b[1;34m\u001b[0m\n\u001b[0;32m      2\u001b[0m \u001b[0mmovie_profile\u001b[0m \u001b[1;33m=\u001b[0m \u001b[0mmovies\u001b[0m\u001b[1;33m[\u001b[0m\u001b[1;33m[\u001b[0m\u001b[1;34m'movieId'\u001b[0m\u001b[1;33m,\u001b[0m \u001b[1;34m'title'\u001b[0m\u001b[1;33m,\u001b[0m \u001b[1;34m'genres'\u001b[0m\u001b[1;33m]\u001b[0m\u001b[1;33m]\u001b[0m\u001b[1;33m\u001b[0m\u001b[1;33m\u001b[0m\u001b[0m\n\u001b[0;32m      3\u001b[0m \u001b[0mmovie_profile\u001b[0m\u001b[1;33m.\u001b[0m\u001b[0mrename\u001b[0m\u001b[1;33m(\u001b[0m\u001b[0mcolumns\u001b[0m\u001b[1;33m=\u001b[0m\u001b[1;33m{\u001b[0m\u001b[1;34m'id'\u001b[0m\u001b[1;33m:\u001b[0m \u001b[1;34m'movieId'\u001b[0m\u001b[1;33m}\u001b[0m\u001b[1;33m,\u001b[0m \u001b[0minplace\u001b[0m\u001b[1;33m=\u001b[0m\u001b[1;32mTrue\u001b[0m\u001b[1;33m)\u001b[0m\u001b[1;33m\u001b[0m\u001b[1;33m\u001b[0m\u001b[0m\n\u001b[1;32m----> 4\u001b[1;33m \u001b[0mgenres\u001b[0m \u001b[1;33m=\u001b[0m \u001b[1;33m[\u001b[0m\u001b[0mitem\u001b[0m\u001b[1;33m.\u001b[0m\u001b[0mstrip\u001b[0m\u001b[1;33m(\u001b[0m\u001b[1;33m)\u001b[0m \u001b[1;32mfor\u001b[0m \u001b[0ml\u001b[0m \u001b[1;32min\u001b[0m \u001b[0mall_genres\u001b[0m \u001b[1;32mfor\u001b[0m \u001b[0mitem\u001b[0m \u001b[1;32min\u001b[0m \u001b[0ml\u001b[0m \u001b[1;33m]\u001b[0m\u001b[1;33m\u001b[0m\u001b[1;33m\u001b[0m\u001b[0m\n\u001b[0m\u001b[0;32m      5\u001b[0m \u001b[0munique_genres\u001b[0m \u001b[1;33m=\u001b[0m \u001b[0mset\u001b[0m\u001b[1;33m(\u001b[0m\u001b[0mgenres\u001b[0m\u001b[1;33m)\u001b[0m\u001b[1;33m\u001b[0m\u001b[1;33m\u001b[0m\u001b[0m\n\u001b[0;32m      6\u001b[0m \u001b[1;32mfor\u001b[0m \u001b[0mgenre\u001b[0m \u001b[1;32min\u001b[0m \u001b[0munique_genres\u001b[0m\u001b[1;33m:\u001b[0m\u001b[1;33m\u001b[0m\u001b[1;33m\u001b[0m\u001b[0m\n",
      "\u001b[1;31mNameError\u001b[0m: name 'all_genres' is not defined"
     ]
    }
   ],
   "source": [
    "# movie profile\n",
    "movie_profile = movies[['movieId', 'title', 'genres']]\n",
    "movie_profile.rename(columns={'id': 'movieId'}, inplace=True)\n",
    "genres = [item.strip() for l in all_genres for item in l ]\n",
    "unique_genres = set(genres)\n",
    "for genre in unique_genres:\n",
    "  movie_profile[genre] = 0\n",
    "  \n",
    "for i in range(len(movie_profile)):\n",
    "  if type(movie_profile['genres'].iloc[i]) != None.__class__:\n",
    "    Genres = movie_profile.iloc[i].genres.split(', ')\n",
    "    for g in Genres:\n",
    "      movie_profile[g].iloc[i] = 1\n",
    "movie_profile = movie_profile.drop(columns=['title', 'genres']).set_index('movieId')\n",
    "movie_profile.sort_index(axis=0, inplace=True)\n",
    "\n",
    "# user profile\n",
    "user_x_movie = pd.pivot_table(ratings, values='rating', index=['movieId'], columns = ['userId'])\n",
    "user_x_movie.sort_index(axis=0, inplace=True)\n",
    "userIDs = user_x_movie.columns\n",
    "user_profile = pd.DataFrame(columns = movie_profile.columns)\n",
    "\n",
    "for i in tqdm(range(len(user_x_movie.columns))):\n",
    "  working_df = movie_profile.mul(user_x_movie.iloc[:,i], axis=0)\n",
    "  # working_df.replace(0, np.NaN, inplace=True)    \n",
    "  user_profile.loc[userIDs[i]] = working_df.mean(axis=0)\n",
    "  \n",
    "# TFIDF\n",
    "df = movie_profile.sum()\n",
    "idf = (len(movies)/df).apply(np.log) #log inverse of DF\n",
    "TFIDF = movie_profile.mul(idf.values)\n",
    "\n",
    "# recommendation prediction\n",
    "df_predict = pd.DataFrame()\n",
    "\n",
    "for i in tqdm(range(len(user_x_movie.columns))):\n",
    "  working_df = TFIDF.mul(user_profile.iloc[i], axis=1)\n",
    "  df_predict[user_x_movie.columns[i]] = working_df.sum(axis=1) "
   ]
  },
  {
   "cell_type": "code",
   "execution_count": 11,
   "metadata": {},
   "outputs": [
    {
     "data": {
      "text/html": [
       "<div>\n",
       "<style scoped>\n",
       "    .dataframe tbody tr th:only-of-type {\n",
       "        vertical-align: middle;\n",
       "    }\n",
       "\n",
       "    .dataframe tbody tr th {\n",
       "        vertical-align: top;\n",
       "    }\n",
       "\n",
       "    .dataframe thead th {\n",
       "        text-align: right;\n",
       "    }\n",
       "</style>\n",
       "<table border=\"1\" class=\"dataframe\">\n",
       "  <thead>\n",
       "    <tr style=\"text-align: right;\">\n",
       "      <th></th>\n",
       "      <th>movieId</th>\n",
       "      <th>title</th>\n",
       "      <th>genres</th>\n",
       "      <th>userId</th>\n",
       "      <th>tag</th>\n",
       "      <th>timestamp</th>\n",
       "    </tr>\n",
       "  </thead>\n",
       "  <tbody>\n",
       "    <tr>\n",
       "      <th>0</th>\n",
       "      <td>1</td>\n",
       "      <td>Toy Story (1995)</td>\n",
       "      <td>Adventure|Animation|Children|Comedy|Fantasy</td>\n",
       "      <td>336.0</td>\n",
       "      <td>pixar</td>\n",
       "      <td>1.139046e+09</td>\n",
       "    </tr>\n",
       "    <tr>\n",
       "      <th>1</th>\n",
       "      <td>1</td>\n",
       "      <td>Toy Story (1995)</td>\n",
       "      <td>Adventure|Animation|Children|Comedy|Fantasy</td>\n",
       "      <td>474.0</td>\n",
       "      <td>pixar</td>\n",
       "      <td>1.137207e+09</td>\n",
       "    </tr>\n",
       "    <tr>\n",
       "      <th>2</th>\n",
       "      <td>1</td>\n",
       "      <td>Toy Story (1995)</td>\n",
       "      <td>Adventure|Animation|Children|Comedy|Fantasy</td>\n",
       "      <td>567.0</td>\n",
       "      <td>fun</td>\n",
       "      <td>1.525286e+09</td>\n",
       "    </tr>\n",
       "  </tbody>\n",
       "</table>\n",
       "</div>"
      ],
      "text/plain": [
       "   movieId             title                                       genres  \\\n",
       "0        1  Toy Story (1995)  Adventure|Animation|Children|Comedy|Fantasy   \n",
       "1        1  Toy Story (1995)  Adventure|Animation|Children|Comedy|Fantasy   \n",
       "2        1  Toy Story (1995)  Adventure|Animation|Children|Comedy|Fantasy   \n",
       "\n",
       "   userId    tag     timestamp  \n",
       "0   336.0  pixar  1.139046e+09  \n",
       "1   474.0  pixar  1.137207e+09  \n",
       "2   567.0    fun  1.525286e+09  "
      ]
     },
     "execution_count": 11,
     "metadata": {},
     "output_type": "execute_result"
    }
   ],
   "source": [
    "# create a mixed dataframe of movies title, genres \n",
    "# and all user tags given to each movie\n",
    "mixed = pd.merge(movies, tags, on='movieId', how='left')\n",
    "mixed.head(3)"
   ]
  },
  {
   "cell_type": "code",
   "execution_count": 16,
   "metadata": {},
   "outputs": [],
   "source": [
    "# create metadata from tags and genres\n",
    "mixed.fillna(\"\", inplace=True)\n",
    "mixed = pd.DataFrame(mixed.groupby('movieId')['tag'].apply(\n",
    "                             lambda x: \"%s\" % ' '.join(x)))"
   ]
  },
  {
   "cell_type": "code",
   "execution_count": 20,
   "metadata": {},
   "outputs": [
    {
     "data": {
      "text/html": [
       "<div>\n",
       "<style scoped>\n",
       "    .dataframe tbody tr th:only-of-type {\n",
       "        vertical-align: middle;\n",
       "    }\n",
       "\n",
       "    .dataframe tbody tr th {\n",
       "        vertical-align: top;\n",
       "    }\n",
       "\n",
       "    .dataframe thead th {\n",
       "        text-align: right;\n",
       "    }\n",
       "</style>\n",
       "<table border=\"1\" class=\"dataframe\">\n",
       "  <thead>\n",
       "    <tr style=\"text-align: right;\">\n",
       "      <th></th>\n",
       "      <th>movieId</th>\n",
       "      <th>title</th>\n",
       "      <th>metadata</th>\n",
       "    </tr>\n",
       "  </thead>\n",
       "  <tbody>\n",
       "    <tr>\n",
       "      <th>0</th>\n",
       "      <td>1</td>\n",
       "      <td>Toy Story (1995)</td>\n",
       "      <td>pixar pixar fun Adventure|Animation|Children|C...</td>\n",
       "    </tr>\n",
       "    <tr>\n",
       "      <th>1</th>\n",
       "      <td>2</td>\n",
       "      <td>Jumanji (1995)</td>\n",
       "      <td>fantasy magic board game Robin Williams game A...</td>\n",
       "    </tr>\n",
       "    <tr>\n",
       "      <th>2</th>\n",
       "      <td>3</td>\n",
       "      <td>Grumpier Old Men (1995)</td>\n",
       "      <td>moldy old Comedy|Romance</td>\n",
       "    </tr>\n",
       "  </tbody>\n",
       "</table>\n",
       "</div>"
      ],
      "text/plain": [
       "   movieId                    title  \\\n",
       "0        1         Toy Story (1995)   \n",
       "1        2           Jumanji (1995)   \n",
       "2        3  Grumpier Old Men (1995)   \n",
       "\n",
       "                                            metadata  \n",
       "0  pixar pixar fun Adventure|Animation|Children|C...  \n",
       "1  fantasy magic board game Robin Williams game A...  \n",
       "2                           moldy old Comedy|Romance  "
      ]
     },
     "execution_count": 20,
     "metadata": {},
     "output_type": "execute_result"
    }
   ],
   "source": [
    "Final = pd.merge(movies, mixed, on='movieId', how='left')\n",
    "Final ['metadata'] = Final[['tag', 'genres']].apply(\n",
    "                             lambda x: ' '.join(x), axis = 1)\n",
    "Final[['movieId','title','metadata']].head(3)"
   ]
  },
  {
   "cell_type": "code",
   "execution_count": 21,
   "metadata": {},
   "outputs": [
    {
     "name": "stdout",
     "output_type": "stream",
     "text": [
      "(9742, 1677)\n"
     ]
    }
   ],
   "source": [
    "from sklearn.feature_extraction.text import TfidfVectorizer\n",
    "tfidf = TfidfVectorizer(stop_words='english')\n",
    "tfidf_matrix = tfidf.fit_transform(Final['metadata'])\n",
    "tfidf_df = pd.DataFrame(tfidf_matrix.toarray(), index=Final.index.tolist())\n",
    "print(tfidf_df.shape)"
   ]
  },
  {
   "cell_type": "code",
   "execution_count": 24,
   "metadata": {},
   "outputs": [
    {
     "data": {
      "image/png": "[encoded data removed]",
      "text/plain": [
       "<Figure size 432x288 with 1 Axes>"
      ]
     },
     "metadata": {
      "needs_background": "light"
     },
     "output_type": "display_data"
    }
   ],
   "source": [
    "# Compress with SVD\n",
    "from sklearn.decomposition import TruncatedSVD\n",
    "svd = TruncatedSVD(n_components=200)\n",
    "latent_matrix = svd.fit_transform(tfidf_df)\n",
    " \n",
    "# plot var expalined to see what latent dimensions to use\n",
    "explained = svd.explained_variance_ratio_.cumsum()\n",
    "plt.plot(explained, '.-', ms = 16, color='red')\n",
    "plt.xlabel('Singular value components', fontsize= 12)\n",
    "plt.ylabel('Cumulative percent of variance', fontsize=12)        \n",
    "plt.show()"
   ]
  },
  {
   "cell_type": "code",
   "execution_count": 25,
   "metadata": {},
   "outputs": [
    {
     "ename": "NameError",
     "evalue": "name 'Content_df' is not defined",
     "output_type": "error",
     "traceback": [
      "\u001b[1;31m---------------------------------------------------------------------------\u001b[0m",
      "\u001b[1;31mNameError\u001b[0m                                 Traceback (most recent call last)",
      "\u001b[1;32m<ipython-input-25-976505bf5d8d>\u001b[0m in \u001b[0;36m<module>\u001b[1;34m\u001b[0m\n\u001b[0;32m      2\u001b[0m \u001b[1;31m# take the latent vectors for a selected movie from both content\u001b[0m\u001b[1;33m\u001b[0m\u001b[1;33m\u001b[0m\u001b[1;33m\u001b[0m\u001b[0m\n\u001b[0;32m      3\u001b[0m \u001b[1;31m# and collaborative matrixes\u001b[0m\u001b[1;33m\u001b[0m\u001b[1;33m\u001b[0m\u001b[1;33m\u001b[0m\u001b[0m\n\u001b[1;32m----> 4\u001b[1;33m \u001b[0ma_1\u001b[0m \u001b[1;33m=\u001b[0m \u001b[0mnp\u001b[0m\u001b[1;33m.\u001b[0m\u001b[0marray\u001b[0m\u001b[1;33m(\u001b[0m\u001b[0mContent_df\u001b[0m\u001b[1;33m.\u001b[0m\u001b[0mloc\u001b[0m\u001b[1;33m[\u001b[0m\u001b[1;34m'Inception (2010)'\u001b[0m\u001b[1;33m]\u001b[0m\u001b[1;33m)\u001b[0m\u001b[1;33m.\u001b[0m\u001b[0mreshape\u001b[0m\u001b[1;33m(\u001b[0m\u001b[1;36m1\u001b[0m\u001b[1;33m,\u001b[0m \u001b[1;33m-\u001b[0m\u001b[1;36m1\u001b[0m\u001b[1;33m)\u001b[0m\u001b[1;33m\u001b[0m\u001b[1;33m\u001b[0m\u001b[0m\n\u001b[0m\u001b[0;32m      5\u001b[0m \u001b[0ma_2\u001b[0m \u001b[1;33m=\u001b[0m \u001b[0mnp\u001b[0m\u001b[1;33m.\u001b[0m\u001b[0marray\u001b[0m\u001b[1;33m(\u001b[0m\u001b[0mCollab_df\u001b[0m\u001b[1;33m.\u001b[0m\u001b[0mloc\u001b[0m\u001b[1;33m[\u001b[0m\u001b[1;34m'Inception (2010)'\u001b[0m\u001b[1;33m]\u001b[0m\u001b[1;33m)\u001b[0m\u001b[1;33m.\u001b[0m\u001b[0mreshape\u001b[0m\u001b[1;33m(\u001b[0m\u001b[1;36m1\u001b[0m\u001b[1;33m,\u001b[0m \u001b[1;33m-\u001b[0m\u001b[1;36m1\u001b[0m\u001b[1;33m)\u001b[0m\u001b[1;33m\u001b[0m\u001b[1;33m\u001b[0m\u001b[0m\n\u001b[0;32m      6\u001b[0m \u001b[1;33m\u001b[0m\u001b[0m\n",
      "\u001b[1;31mNameError\u001b[0m: name 'Content_df' is not defined"
     ]
    }
   ],
   "source": [
    "from sklearn.metrics.pairwise import cosine_similarity\n",
    "# take the latent vectors for a selected movie from both content \n",
    "# and collaborative matrixes\n",
    "a_1 = np.array(Content_df.loc['Inception (2010)']).reshape(1, -1)\n",
    "a_2 = np.array(Collab_df.loc['Inception (2010)']).reshape(1, -1)\n",
    " \n",
    "# calculate the similartity of this movie with the others in the list\n",
    "score_1 = cosine_similarity(Content_df, a_1).reshape(-1)\n",
    "score_2 = cosine_similarity(Collab_df, a_2).reshape(-1)\n",
    " \n",
    "# an average measure of both content and collaborative \n",
    "hybrid = ((score_1 + score_2)/2.0)\n",
    " \n",
    "# form a data frame of similar movies \n",
    "dictDf = {'content': score_1 , 'collaborative': score_2, 'hybrid': hybrid} \n",
    "similar = pd.DataFrame(dictDf, index = Content_df.index )\n",
    " \n",
    "#sort it on the basis of either: content, collaborative or hybrid \n",
    "similar.sort_values('content', ascending=False, inplace=True)\n",
    "similar[['content']][1:].head(11)"
   ]
  },
  {
   "cell_type": "markdown",
   "metadata": {},
   "source": [
    "# Content Filtering 2"
   ]
  },
  {
   "cell_type": "code",
   "execution_count": null,
   "metadata": {},
   "outputs": [],
   "source": [
    "# https://github.com/vivdalal/movie-recommender-system/blob/master/movie_recommendation_system.ipynb"
   ]
  },
  {
   "cell_type": "code",
   "execution_count": 26,
   "metadata": {},
   "outputs": [],
   "source": [
    "from math import sqrt\n",
    "import pandas as pd\n",
    "import numpy as np\n",
    "import seaborn as sns\n",
    "from matplotlib import pyplot as plt\n",
    "from sklearn.feature_extraction.text import TfidfVectorizer\n",
    "from sklearn.metrics.pairwise import linear_kernel"
   ]
  },
  {
   "cell_type": "code",
   "execution_count": 28,
   "metadata": {},
   "outputs": [],
   "source": [
    "# Reading ratings file\n",
    "ratings = pd.read_csv('small_data/ml-latest-small/ratings.csv', sep=',', encoding='latin-1', usecols=['userId','movieId','rating','timestamp'])\n",
    "\n",
    "# Reading movies file\n",
    "movies = pd.read_csv('small_data/ml-latest-small/movies.csv', sep=',', encoding='latin-1', usecols=['movieId','title','genres'])"
   ]
  },
  {
   "cell_type": "code",
   "execution_count": 29,
   "metadata": {},
   "outputs": [],
   "source": [
    "df_movies = movies \n",
    "df_ratings = ratings"
   ]
  },
  {
   "cell_type": "code",
   "execution_count": 32,
   "metadata": {},
   "outputs": [
    {
     "data": {
      "text/plain": [
       "<BarContainer object of 19 artists>"
      ]
     },
     "execution_count": 32,
     "metadata": {},
     "output_type": "execute_result"
    },
    {
     "data": {
      "image/png": "[encoded data removed]",
      "text/plain": [
       "<Figure size 1440x504 with 1 Axes>"
      ]
     },
     "metadata": {
      "needs_background": "light"
     },
     "output_type": "display_data"
    }
   ],
   "source": [
    "# distribution of genre counts\n",
    "plt.figure(figsize=(20,7))\n",
    "generlist = df_movies['genres'].apply(lambda generlist_movie : str(generlist_movie).split(\"|\"))\n",
    "geners_count = {}\n",
    "\n",
    "for generlist_movie in generlist:\n",
    "    for gener in generlist_movie:\n",
    "        if(geners_count.get(gener,False)):\n",
    "            geners_count[gener]=geners_count[gener]+1\n",
    "        else:\n",
    "            geners_count[gener] = 1       \n",
    "geners_count.pop(\"(no genres listed)\")\n",
    "plt.bar(geners_count.keys(),geners_count.values())"
   ]
  },
  {
   "cell_type": "code",
   "execution_count": 33,
   "metadata": {},
   "outputs": [
    {
     "name": "stderr",
     "output_type": "stream",
     "text": [
      "C:\\Users\\nehcr\\anaconda3\\envs\\learn-env\\lib\\site-packages\\seaborn\\distributions.py:2551: FutureWarning: `distplot` is a deprecated function and will be removed in a future version. Please adapt your code to use either `displot` (a figure-level function with similar flexibility) or `histplot` (an axes-level function for histograms).\n",
      "  warnings.warn(msg, FutureWarning)\n"
     ]
    },
    {
     "data": {
      "image/png": "[encoded data removed]",
      "text/plain": [
       "<Figure size 432x288 with 1 Axes>"
      ]
     },
     "metadata": {
      "needs_background": "light"
     },
     "output_type": "display_data"
    }
   ],
   "source": [
    "# ratings distribution\n",
    "sns.distplot(df_ratings[\"rating\"]);"
   ]
  },
  {
   "cell_type": "code",
   "execution_count": 34,
   "metadata": {},
   "outputs": [],
   "source": [
    "# merge ratings \n",
    "merge_ratings_movies = pd.merge(df_movies, df_ratings, on='movieId', how='inner')"
   ]
  },
  {
   "cell_type": "code",
   "execution_count": 35,
   "metadata": {},
   "outputs": [],
   "source": [
    "# drop timestamp column \n",
    "merge_ratings_movies = merge_ratings_movies.drop('timestamp', axis=1)"
   ]
  },
  {
   "cell_type": "markdown",
   "metadata": {},
   "source": [
    "## Ratings Distributions"
   ]
  },
  {
   "cell_type": "code",
   "execution_count": 61,
   "metadata": {},
   "outputs": [
    {
     "data": {
      "text/html": [
       "<div>\n",
       "<style scoped>\n",
       "    .dataframe tbody tr th:only-of-type {\n",
       "        vertical-align: middle;\n",
       "    }\n",
       "\n",
       "    .dataframe tbody tr th {\n",
       "        vertical-align: top;\n",
       "    }\n",
       "\n",
       "    .dataframe thead th {\n",
       "        text-align: right;\n",
       "    }\n",
       "</style>\n",
       "<table border=\"1\" class=\"dataframe\">\n",
       "  <thead>\n",
       "    <tr style=\"text-align: right;\">\n",
       "      <th></th>\n",
       "      <th>movieId</th>\n",
       "      <th>title</th>\n",
       "      <th>genres</th>\n",
       "    </tr>\n",
       "  </thead>\n",
       "  <tbody>\n",
       "    <tr>\n",
       "      <th>4169</th>\n",
       "      <td>6003</td>\n",
       "      <td>Confessions of a Dangerous Mind (2002)</td>\n",
       "      <td>Comedy|Crime|Drama|Thriller</td>\n",
       "    </tr>\n",
       "    <tr>\n",
       "      <th>9106</th>\n",
       "      <td>144606</td>\n",
       "      <td>Confessions of a Dangerous Mind (2002)</td>\n",
       "      <td>Comedy|Crime|Drama|Romance|Thriller</td>\n",
       "    </tr>\n",
       "    <tr>\n",
       "      <th>650</th>\n",
       "      <td>838</td>\n",
       "      <td>Emma (1996)</td>\n",
       "      <td>Comedy|Drama|Romance</td>\n",
       "    </tr>\n",
       "    <tr>\n",
       "      <th>5601</th>\n",
       "      <td>26958</td>\n",
       "      <td>Emma (1996)</td>\n",
       "      <td>Romance</td>\n",
       "    </tr>\n",
       "    <tr>\n",
       "      <th>5854</th>\n",
       "      <td>32600</td>\n",
       "      <td>Eros (2004)</td>\n",
       "      <td>Drama</td>\n",
       "    </tr>\n",
       "    <tr>\n",
       "      <th>9135</th>\n",
       "      <td>147002</td>\n",
       "      <td>Eros (2004)</td>\n",
       "      <td>Drama|Romance</td>\n",
       "    </tr>\n",
       "    <tr>\n",
       "      <th>2141</th>\n",
       "      <td>2851</td>\n",
       "      <td>Saturn 3 (1980)</td>\n",
       "      <td>Adventure|Sci-Fi|Thriller</td>\n",
       "    </tr>\n",
       "    <tr>\n",
       "      <th>9468</th>\n",
       "      <td>168358</td>\n",
       "      <td>Saturn 3 (1980)</td>\n",
       "      <td>Sci-Fi|Thriller</td>\n",
       "    </tr>\n",
       "    <tr>\n",
       "      <th>5931</th>\n",
       "      <td>34048</td>\n",
       "      <td>War of the Worlds (2005)</td>\n",
       "      <td>Action|Adventure|Sci-Fi|Thriller</td>\n",
       "    </tr>\n",
       "    <tr>\n",
       "      <th>6932</th>\n",
       "      <td>64997</td>\n",
       "      <td>War of the Worlds (2005)</td>\n",
       "      <td>Action|Sci-Fi</td>\n",
       "    </tr>\n",
       "  </tbody>\n",
       "</table>\n",
       "</div>"
      ],
      "text/plain": [
       "      movieId                                   title  \\\n",
       "4169     6003  Confessions of a Dangerous Mind (2002)   \n",
       "9106   144606  Confessions of a Dangerous Mind (2002)   \n",
       "650       838                             Emma (1996)   \n",
       "5601    26958                             Emma (1996)   \n",
       "5854    32600                             Eros (2004)   \n",
       "9135   147002                             Eros (2004)   \n",
       "2141     2851                         Saturn 3 (1980)   \n",
       "9468   168358                         Saturn 3 (1980)   \n",
       "5931    34048                War of the Worlds (2005)   \n",
       "6932    64997                War of the Worlds (2005)   \n",
       "\n",
       "                                   genres  \n",
       "4169          Comedy|Crime|Drama|Thriller  \n",
       "9106  Comedy|Crime|Drama|Romance|Thriller  \n",
       "650                  Comedy|Drama|Romance  \n",
       "5601                              Romance  \n",
       "5854                                Drama  \n",
       "9135                        Drama|Romance  \n",
       "2141            Adventure|Sci-Fi|Thriller  \n",
       "9468                      Sci-Fi|Thriller  \n",
       "5931     Action|Adventure|Sci-Fi|Thriller  \n",
       "6932                        Action|Sci-Fi  "
      ]
     },
     "execution_count": 61,
     "metadata": {},
     "output_type": "execute_result"
    }
   ],
   "source": [
    "# we should keep in mind that there are duplicate entries\n",
    "movies[movies.title.duplicated(keep=False)].sort_values(by='title')"
   ]
  },
  {
   "cell_type": "code",
   "execution_count": 60,
   "metadata": {},
   "outputs": [
    {
     "data": {
      "text/html": [
       "<div>\n",
       "<style scoped>\n",
       "    .dataframe tbody tr th:only-of-type {\n",
       "        vertical-align: middle;\n",
       "    }\n",
       "\n",
       "    .dataframe tbody tr th {\n",
       "        vertical-align: top;\n",
       "    }\n",
       "\n",
       "    .dataframe thead th {\n",
       "        text-align: right;\n",
       "    }\n",
       "</style>\n",
       "<table border=\"1\" class=\"dataframe\">\n",
       "  <thead>\n",
       "    <tr style=\"text-align: right;\">\n",
       "      <th></th>\n",
       "      <th>userId</th>\n",
       "      <th>movieId</th>\n",
       "      <th>rating</th>\n",
       "      <th>timestamp</th>\n",
       "      <th>title</th>\n",
       "      <th>genres</th>\n",
       "    </tr>\n",
       "  </thead>\n",
       "  <tbody>\n",
       "    <tr>\n",
       "      <th>0</th>\n",
       "      <td>1</td>\n",
       "      <td>1</td>\n",
       "      <td>4.0</td>\n",
       "      <td>964982703</td>\n",
       "      <td>Toy Story (1995)</td>\n",
       "      <td>Adventure|Animation|Children|Comedy|Fantasy</td>\n",
       "    </tr>\n",
       "    <tr>\n",
       "      <th>1</th>\n",
       "      <td>5</td>\n",
       "      <td>1</td>\n",
       "      <td>4.0</td>\n",
       "      <td>847434962</td>\n",
       "      <td>Toy Story (1995)</td>\n",
       "      <td>Adventure|Animation|Children|Comedy|Fantasy</td>\n",
       "    </tr>\n",
       "    <tr>\n",
       "      <th>2</th>\n",
       "      <td>7</td>\n",
       "      <td>1</td>\n",
       "      <td>4.5</td>\n",
       "      <td>1106635946</td>\n",
       "      <td>Toy Story (1995)</td>\n",
       "      <td>Adventure|Animation|Children|Comedy|Fantasy</td>\n",
       "    </tr>\n",
       "    <tr>\n",
       "      <th>3</th>\n",
       "      <td>15</td>\n",
       "      <td>1</td>\n",
       "      <td>2.5</td>\n",
       "      <td>1510577970</td>\n",
       "      <td>Toy Story (1995)</td>\n",
       "      <td>Adventure|Animation|Children|Comedy|Fantasy</td>\n",
       "    </tr>\n",
       "    <tr>\n",
       "      <th>4</th>\n",
       "      <td>17</td>\n",
       "      <td>1</td>\n",
       "      <td>4.5</td>\n",
       "      <td>1305696483</td>\n",
       "      <td>Toy Story (1995)</td>\n",
       "      <td>Adventure|Animation|Children|Comedy|Fantasy</td>\n",
       "    </tr>\n",
       "  </tbody>\n",
       "</table>\n",
       "</div>"
      ],
      "text/plain": [
       "   userId  movieId  rating   timestamp             title  \\\n",
       "0       1        1     4.0   964982703  Toy Story (1995)   \n",
       "1       5        1     4.0   847434962  Toy Story (1995)   \n",
       "2       7        1     4.5  1106635946  Toy Story (1995)   \n",
       "3      15        1     2.5  1510577970  Toy Story (1995)   \n",
       "4      17        1     4.5  1305696483  Toy Story (1995)   \n",
       "\n",
       "                                        genres  \n",
       "0  Adventure|Animation|Children|Comedy|Fantasy  \n",
       "1  Adventure|Animation|Children|Comedy|Fantasy  \n",
       "2  Adventure|Animation|Children|Comedy|Fantasy  \n",
       "3  Adventure|Animation|Children|Comedy|Fantasy  \n",
       "4  Adventure|Animation|Children|Comedy|Fantasy  "
      ]
     },
     "execution_count": 60,
     "metadata": {},
     "output_type": "execute_result"
    }
   ],
   "source": [
    "df = pd.merge(ratings, movies, on='movieId')\n",
    "df.head()"
   ]
  },
  {
   "cell_type": "code",
   "execution_count": 62,
   "metadata": {},
   "outputs": [
    {
     "data": {
      "text/html": [
       "<div>\n",
       "<style scoped>\n",
       "    .dataframe tbody tr th:only-of-type {\n",
       "        vertical-align: middle;\n",
       "    }\n",
       "\n",
       "    .dataframe tbody tr th {\n",
       "        vertical-align: top;\n",
       "    }\n",
       "\n",
       "    .dataframe thead th {\n",
       "        text-align: right;\n",
       "    }\n",
       "</style>\n",
       "<table border=\"1\" class=\"dataframe\">\n",
       "  <thead>\n",
       "    <tr style=\"text-align: right;\">\n",
       "      <th></th>\n",
       "      <th>rating</th>\n",
       "    </tr>\n",
       "    <tr>\n",
       "      <th>title</th>\n",
       "      <th></th>\n",
       "    </tr>\n",
       "  </thead>\n",
       "  <tbody>\n",
       "    <tr>\n",
       "      <th>'71 (2014)</th>\n",
       "      <td>4.0</td>\n",
       "    </tr>\n",
       "    <tr>\n",
       "      <th>'Hellboy': The Seeds of Creation (2004)</th>\n",
       "      <td>4.0</td>\n",
       "    </tr>\n",
       "    <tr>\n",
       "      <th>'Round Midnight (1986)</th>\n",
       "      <td>3.5</td>\n",
       "    </tr>\n",
       "    <tr>\n",
       "      <th>'Salem's Lot (2004)</th>\n",
       "      <td>5.0</td>\n",
       "    </tr>\n",
       "    <tr>\n",
       "      <th>'Til There Was You (1997)</th>\n",
       "      <td>4.0</td>\n",
       "    </tr>\n",
       "  </tbody>\n",
       "</table>\n",
       "</div>"
      ],
      "text/plain": [
       "                                         rating\n",
       "title                                          \n",
       "'71 (2014)                                  4.0\n",
       "'Hellboy': The Seeds of Creation (2004)     4.0\n",
       "'Round Midnight (1986)                      3.5\n",
       "'Salem's Lot (2004)                         5.0\n",
       "'Til There Was You (1997)                   4.0"
      ]
     },
     "execution_count": 62,
     "metadata": {},
     "output_type": "execute_result"
    }
   ],
   "source": [
    "ratings_df = pd.DataFrame(df.groupby('title')['rating'].mean())\n",
    "ratings_df.head()"
   ]
  },
  {
   "cell_type": "code",
   "execution_count": 63,
   "metadata": {},
   "outputs": [
    {
     "data": {
      "text/html": [
       "<div>\n",
       "<style scoped>\n",
       "    .dataframe tbody tr th:only-of-type {\n",
       "        vertical-align: middle;\n",
       "    }\n",
       "\n",
       "    .dataframe tbody tr th {\n",
       "        vertical-align: top;\n",
       "    }\n",
       "\n",
       "    .dataframe thead th {\n",
       "        text-align: right;\n",
       "    }\n",
       "</style>\n",
       "<table border=\"1\" class=\"dataframe\">\n",
       "  <thead>\n",
       "    <tr style=\"text-align: right;\">\n",
       "      <th></th>\n",
       "      <th>average_rating</th>\n",
       "    </tr>\n",
       "    <tr>\n",
       "      <th>title</th>\n",
       "      <th></th>\n",
       "    </tr>\n",
       "  </thead>\n",
       "  <tbody>\n",
       "    <tr>\n",
       "      <th>'71 (2014)</th>\n",
       "      <td>4.0</td>\n",
       "    </tr>\n",
       "    <tr>\n",
       "      <th>'Hellboy': The Seeds of Creation (2004)</th>\n",
       "      <td>4.0</td>\n",
       "    </tr>\n",
       "    <tr>\n",
       "      <th>'Round Midnight (1986)</th>\n",
       "      <td>3.5</td>\n",
       "    </tr>\n",
       "  </tbody>\n",
       "</table>\n",
       "</div>"
      ],
      "text/plain": [
       "                                         average_rating\n",
       "title                                                  \n",
       "'71 (2014)                                          4.0\n",
       "'Hellboy': The Seeds of Creation (2004)             4.0\n",
       "'Round Midnight (1986)                              3.5"
      ]
     },
     "execution_count": 63,
     "metadata": {},
     "output_type": "execute_result"
    }
   ],
   "source": [
    "ratings_df.rename(columns={'rating': 'average_rating'}, inplace=True)\n",
    "ratings_df.head(3)"
   ]
  },
  {
   "cell_type": "code",
   "execution_count": 64,
   "metadata": {},
   "outputs": [
    {
     "data": {
      "text/html": [
       "<div>\n",
       "<style scoped>\n",
       "    .dataframe tbody tr th:only-of-type {\n",
       "        vertical-align: middle;\n",
       "    }\n",
       "\n",
       "    .dataframe tbody tr th {\n",
       "        vertical-align: top;\n",
       "    }\n",
       "\n",
       "    .dataframe thead th {\n",
       "        text-align: right;\n",
       "    }\n",
       "</style>\n",
       "<table border=\"1\" class=\"dataframe\">\n",
       "  <thead>\n",
       "    <tr style=\"text-align: right;\">\n",
       "      <th></th>\n",
       "      <th>average_rating</th>\n",
       "      <th>num_of_ratings</th>\n",
       "    </tr>\n",
       "    <tr>\n",
       "      <th>title</th>\n",
       "      <th></th>\n",
       "      <th></th>\n",
       "    </tr>\n",
       "  </thead>\n",
       "  <tbody>\n",
       "    <tr>\n",
       "      <th>'71 (2014)</th>\n",
       "      <td>4.0</td>\n",
       "      <td>1</td>\n",
       "    </tr>\n",
       "    <tr>\n",
       "      <th>'Hellboy': The Seeds of Creation (2004)</th>\n",
       "      <td>4.0</td>\n",
       "      <td>1</td>\n",
       "    </tr>\n",
       "    <tr>\n",
       "      <th>'Round Midnight (1986)</th>\n",
       "      <td>3.5</td>\n",
       "      <td>2</td>\n",
       "    </tr>\n",
       "    <tr>\n",
       "      <th>'Salem's Lot (2004)</th>\n",
       "      <td>5.0</td>\n",
       "      <td>1</td>\n",
       "    </tr>\n",
       "    <tr>\n",
       "      <th>'Til There Was You (1997)</th>\n",
       "      <td>4.0</td>\n",
       "      <td>2</td>\n",
       "    </tr>\n",
       "  </tbody>\n",
       "</table>\n",
       "</div>"
      ],
      "text/plain": [
       "                                         average_rating  num_of_ratings\n",
       "title                                                                  \n",
       "'71 (2014)                                          4.0               1\n",
       "'Hellboy': The Seeds of Creation (2004)             4.0               1\n",
       "'Round Midnight (1986)                              3.5               2\n",
       "'Salem's Lot (2004)                                 5.0               1\n",
       "'Til There Was You (1997)                           4.0               2"
      ]
     },
     "execution_count": 64,
     "metadata": {},
     "output_type": "execute_result"
    }
   ],
   "source": [
    "ratings_df['num_of_ratings'] = pd.DataFrame(df.groupby('title')['rating'].count())\n",
    "ratings_df.head()"
   ]
  },
  {
   "cell_type": "code",
   "execution_count": 65,
   "metadata": {},
   "outputs": [
    {
     "data": {
      "text/plain": [
       "Text(0, 0.5, 'number of films with that many ratings')"
      ]
     },
     "execution_count": 65,
     "metadata": {},
     "output_type": "execute_result"
    },
    {
     "data": {
      "image/png": "[encoded data removed]",
      "text/plain": [
       "<Figure size 720x432 with 1 Axes>"
      ]
     },
     "metadata": {
      "needs_background": "light"
     },
     "output_type": "display_data"
    }
   ],
   "source": [
    "# Number of films with a specific number of ratings\n",
    "plt.figure(figsize=[10,6]) # Using basic pandas visualisation\n",
    "ratings_df['num_of_ratings'].hist(bins=50)\n",
    "plt.xlabel('number of ratings')\n",
    "plt.ylabel('number of films with that many ratings')"
   ]
  },
  {
   "cell_type": "code",
   "execution_count": 66,
   "metadata": {},
   "outputs": [
    {
     "data": {
      "text/plain": [
       "Text(0, 0.5, 'number of films with that rating')"
      ]
     },
     "execution_count": 66,
     "metadata": {},
     "output_type": "execute_result"
    },
    {
     "data": {
      "image/png": "[encoded data removed]",
      "text/plain": [
       "<Figure size 720x432 with 1 Axes>"
      ]
     },
     "metadata": {
      "needs_background": "light"
     },
     "output_type": "display_data"
    }
   ],
   "source": [
    "# Distribution of film ratings\n",
    "plt.figure(figsize=[10,6])\n",
    "ratings_df.average_rating.hist(bins=50)\n",
    "plt.xlabel('rating (number of stars)')\n",
    "plt.ylabel('number of films with that rating')"
   ]
  },
  {
   "cell_type": "code",
   "execution_count": 68,
   "metadata": {},
   "outputs": [
    {
     "data": {
      "text/plain": [
       "<seaborn.axisgrid.JointGrid at 0x1a706d79a00>"
      ]
     },
     "execution_count": 68,
     "metadata": {},
     "output_type": "execute_result"
    },
    {
     "data": {
      "image/png": "[encoded data removed]",
      "text/plain": [
       "<Figure size 432x432 with 3 Axes>"
      ]
     },
     "metadata": {
      "needs_background": "light"
     },
     "output_type": "display_data"
    }
   ],
   "source": [
    "# average ratings and number of ratings\n",
    "sns.jointplot(x='average_rating',y='num_of_ratings', data=ratings_df, alpha=0.5)"
   ]
  },
  {
   "cell_type": "markdown",
   "metadata": {},
   "source": [
    "## "
   ]
  },
  {
   "cell_type": "code",
   "execution_count": 36,
   "metadata": {},
   "outputs": [],
   "source": [
    "ratings_grouped_by_users = merge_ratings_movies.groupby('userId').agg([np.size, np.mean])"
   ]
  },
  {
   "cell_type": "code",
   "execution_count": 37,
   "metadata": {},
   "outputs": [],
   "source": [
    "ratings_grouped_by_users = ratings_grouped_by_users.drop('movieId', axis = 1)"
   ]
  },
  {
   "cell_type": "code",
   "execution_count": 69,
   "metadata": {},
   "outputs": [
    {
     "data": {
      "text/plain": [
       "<AxesSubplot:xlabel='userId'>"
      ]
     },
     "execution_count": 69,
     "metadata": {},
     "output_type": "execute_result"
    },
    {
     "data": {
      "image/png": "[encoded data removed]",
      "text/plain": [
       "<Figure size 720x360 with 1 Axes>"
      ]
     },
     "metadata": {
      "needs_background": "light"
     },
     "output_type": "display_data"
    }
   ],
   "source": [
    "# top 10 users with most ratings\n",
    "ratings_grouped_by_users['rating']['size'].sort_values(ascending=False).head(10).plot(kind='bar', figsize = (10,5))"
   ]
  },
  {
   "cell_type": "code",
   "execution_count": 41,
   "metadata": {},
   "outputs": [],
   "source": [
    "ratings_grouped_by_movies = merge_ratings_movies.groupby('movieId').agg([np.mean], np.size)"
   ]
  },
  {
   "cell_type": "code",
   "execution_count": 43,
   "metadata": {},
   "outputs": [],
   "source": [
    "ratings_grouped_by_movies = ratings_grouped_by_movies.drop('userId', axis=1)"
   ]
  },
  {
   "cell_type": "markdown",
   "metadata": {},
   "source": [
    "## Movies with highest average ratings"
   ]
  },
  {
   "cell_type": "code",
   "execution_count": 44,
   "metadata": {},
   "outputs": [
    {
     "data": {
      "image/png": "[encoded data removed]",
      "text/plain": [
       "<Figure size 504x432 with 1 Axes>"
      ]
     },
     "metadata": {
      "needs_background": "light"
     },
     "output_type": "display_data"
    }
   ],
   "source": [
    "ratings_grouped_by_movies['rating']['mean'].sort_values(ascending=False).head(10).plot(kind='barh', figsize=(7,6));"
   ]
  },
  {
   "cell_type": "markdown",
   "metadata": {},
   "source": [
    "## Content Based Filtering"
   ]
  },
  {
   "cell_type": "code",
   "execution_count": 45,
   "metadata": {},
   "outputs": [],
   "source": [
    "# Define a TF-IDF Vectorizer Object.\n",
    "tfidf_movies_genres = TfidfVectorizer(token_pattern = '[a-zA-Z0-9\\-]+')\n",
    "\n",
    "#Replace NaN with an empty string\n",
    "df_movies['genres'] = df_movies['genres'].replace(to_replace=\"(no genres listed)\", value=\"\")\n",
    "\n",
    "#Construct the required TF-IDF matrix by fitting and transforming the data\n",
    "tfidf_movies_genres_matrix = tfidf_movies_genres.fit_transform(df_movies['genres'])\n",
    "# print(tfidf_movies_genres.get_feature_names())\n",
    "# Compute the cosine similarity matrix\n",
    "# print(tfidf_movies_genres_matrix.shape)\n",
    "# print(tfidf_movies_genres_matrix.dtype)\n",
    "cosine_sim_movies = linear_kernel(tfidf_movies_genres_matrix, tfidf_movies_genres_matrix)\n",
    "# print(cosine_sim_movies)"
   ]
  },
  {
   "cell_type": "code",
   "execution_count": 48,
   "metadata": {},
   "outputs": [],
   "source": [
    "def get_recommendations_based_on_genres(movie_title, cosine_sim_movies=cosine_sim_movies):\n",
    "    \"\"\"\n",
    "    Calculates top 2 movies to recommend based on given movie titles genres. \n",
    "    :param movie_title: title of movie to be taken for base of recommendation\n",
    "    :param cosine_sim_movies: cosine similarity between movies \n",
    "    :return: Titles of movies recommended to user\n",
    "    \"\"\"\n",
    "    # Get the index of the movie that matches the title\n",
    "    idx_movie = df_movies.loc[df_movies['title'].isin([movie_title])]\n",
    "    idx_movie = idx_movie.index\n",
    "    \n",
    "    # Get the pairwsie similarity scores of all movies with that movie\n",
    "    sim_scores_movies = list(enumerate(cosine_sim_movies[idx_movie][0]))\n",
    "    \n",
    "    # Sort the movies based on the similarity scores\n",
    "    sim_scores_movies = sorted(sim_scores_movies, key=lambda x: x[1], reverse=True)\n",
    "\n",
    "    # Get the scores of the 10 most similar movies\n",
    "    sim_scores_movies = sim_scores_movies[1:6]\n",
    "    \n",
    "    # Get the movie indices\n",
    "    movie_indices = [i[0] for i in sim_scores_movies]\n",
    "    \n",
    "    # Return the top 2 most similar movies\n",
    "    return df_movies['title'].iloc[movie_indices]"
   ]
  },
  {
   "cell_type": "code",
   "execution_count": 49,
   "metadata": {},
   "outputs": [
    {
     "data": {
      "text/plain": [
       "17                        Four Rooms (1995)\n",
       "18    Ace Ventura: When Nature Calls (1995)\n",
       "58                          Bio-Dome (1996)\n",
       "61                            Friday (1995)\n",
       "79                       Black Sheep (1996)\n",
       "Name: title, dtype: object"
      ]
     },
     "execution_count": 49,
     "metadata": {},
     "output_type": "execute_result"
    }
   ],
   "source": [
    "get_recommendations_based_on_genres(\"Father of the Bride Part II (1995)\")"
   ]
  },
  {
   "cell_type": "code",
   "execution_count": 51,
   "metadata": {},
   "outputs": [
    {
     "data": {
      "text/plain": [
       "{'101 Dalmatians (One Hundred and One Dalmatians) (1961)',\n",
       " '39 Steps, The (1935)',\n",
       " '5,000 Fingers of Dr. T, The (1953)',\n",
       " 'Absolute Power (1997)',\n",
       " 'Ace Ventura: When Nature Calls (1995)',\n",
       " 'Adventures in Babysitting (1987)',\n",
       " 'Adventures of Baron Munchausen, The (1988)',\n",
       " 'Adventures of Buckaroo Banzai Across the 8th Dimension, The (1984)',\n",
       " 'Adventures of Rocky and Bullwinkle, The (2000)',\n",
       " 'Adventures of Sharkboy and Lavagirl 3-D, The (2005)',\n",
       " 'Agent Cody Banks (2003)',\n",
       " 'Aladdin (1992)',\n",
       " 'Alamo, The (1960)',\n",
       " 'Alien Nation (1988)',\n",
       " 'All Dogs Christmas Carol, An (1998)',\n",
       " 'All Dogs Go to Heaven 2 (1996)',\n",
       " 'Allan Quatermain and the Lost City of Gold (1987)',\n",
       " 'Almost Heroes (1998)',\n",
       " 'Alvin and the Chipmunks: The Squeakquel (2009)',\n",
       " 'Amateur (1994)',\n",
       " 'Amazing Panda Adventure, The (1995)',\n",
       " 'American Astronaut, The (2001)',\n",
       " 'American Pop (1981)',\n",
       " 'Amistad (1997)',\n",
       " 'Anastasia (1997)',\n",
       " 'Annie (1982)',\n",
       " \"Antonia's Line (Antonia) (1995)\",\n",
       " 'Antz (1998)',\n",
       " 'Apocalypse Now (1979)',\n",
       " 'Aristocats, The (1970)',\n",
       " 'Armour of God (Long xiong hu di) (1987)',\n",
       " 'Armour of God II: Operation Condor (Operation Condor) (Fei ying gai wak) (1991)',\n",
       " 'Army of Darkness (1993)',\n",
       " 'Around the World in 80 Days (1956)',\n",
       " 'Assassins (1995)',\n",
       " 'Atlantis: The Lost Empire (2001)',\n",
       " 'Austin Powers: The Spy Who Shagged Me (1999)',\n",
       " 'BURN-E (2008)',\n",
       " 'Babes in Toyland (1934)',\n",
       " 'Babes in Toyland (1961)',\n",
       " 'Back to the Future (1985)',\n",
       " 'Back to the Future Part II (1989)',\n",
       " 'Backbeat (1993)',\n",
       " 'Balto (1995)',\n",
       " 'Bananas (1971)',\n",
       " 'Band Wagon, The (1953)',\n",
       " 'Bandits (2001)',\n",
       " 'Barb Wire (1996)',\n",
       " 'Basic Instinct (1992)',\n",
       " 'Batman/Superman Movie, The (1998)',\n",
       " 'Batman: Mask of the Phantasm (1993)',\n",
       " 'Batman: Mystery of the Batwoman (2003)',\n",
       " 'Beat the Devil (1953)',\n",
       " 'Beautiful Creatures (2000)',\n",
       " 'Beauty and the Beast: The Enchanted Christmas (1997)',\n",
       " 'Bed of Roses (1996)',\n",
       " 'Before the Rain (Pred dozhdot) (1994)',\n",
       " 'Bell, Book and Candle (1958)',\n",
       " 'Ben-Hur (1959)',\n",
       " 'Beneath the Planet of the Apes (1970)',\n",
       " 'Beverly Hills Cop (1984)',\n",
       " 'Big Bully (1996)',\n",
       " 'Big Country, The (1958)',\n",
       " 'Big Trouble in Little China (1986)',\n",
       " 'Bio-Dome (1996)',\n",
       " 'Black Hole, The (1979)',\n",
       " 'Black Knight (2001)',\n",
       " 'Black Sheep (1996)',\n",
       " 'Blade (1998)',\n",
       " 'Blade II (2002)',\n",
       " 'Blade Runner (1982)',\n",
       " 'Blink (1994)',\n",
       " 'Blob, The (1958)',\n",
       " 'Blue Velvet (1986)',\n",
       " 'Blue in the Face (1995)',\n",
       " 'Blues Brothers 2000 (1998)',\n",
       " 'Boot, Das (Boat, The) (1981)',\n",
       " 'Bourne Identity, The (1988)',\n",
       " 'Breaking the Waves (1996)',\n",
       " 'Bride of Frankenstein, The (Bride of Frankenstein) (1935)',\n",
       " 'Bright (2017)',\n",
       " 'Broken Arrow (1996)',\n",
       " 'Brothers Bloom, The (2008)',\n",
       " \"Bug's Life, A (1998)\",\n",
       " 'Butch Cassidy and the Sundance Kid (1969)',\n",
       " 'Candyman: Farewell to the Flesh (1995)',\n",
       " 'Captain Blood (1935)',\n",
       " 'Care Bears Movie, The (1985)',\n",
       " 'Carpool (1996)',\n",
       " 'Casper (1995)',\n",
       " 'Castle Freak (1995)',\n",
       " 'Cat Ballou (1965)',\n",
       " 'Cat from Outer Space, The (1978)',\n",
       " \"Cats Don't Dance (1997)\",\n",
       " 'Catwoman (2004)',\n",
       " 'Cellular (2004)',\n",
       " 'Cemetery Man (Dellamorte Dellamore) (1994)',\n",
       " 'Children of the Corn IV: The Gathering (1996)',\n",
       " 'Chinatown (1974)',\n",
       " 'Chitty Chitty Bang Bang (1968)',\n",
       " \"Cirque du Freak: The Vampire's Assistant (2009)\",\n",
       " 'City Slickers (1991)',\n",
       " \"City Slickers II: The Legend of Curly's Gold (1994)\",\n",
       " 'City of Ember (2008)',\n",
       " 'Claim, The (2000)',\n",
       " 'Clash of the Titans (1981)',\n",
       " 'Claymation Christmas Celebration, A (1987)',\n",
       " 'Cliffhanger (1993)',\n",
       " 'Cloak & Dagger (1984)',\n",
       " 'Clueless (1995)',\n",
       " 'Colonel Chabert, Le (1994)',\n",
       " 'Conan the Barbarian (1982)',\n",
       " 'Coneheads (1993)',\n",
       " 'Confessions of a Dangerous Mind (2002)',\n",
       " 'Crocodile Dundee II (1988)',\n",
       " 'Crow: City of Angels, The (1996)',\n",
       " 'Cry, the Beloved Country (1995)',\n",
       " 'Cure (1997)',\n",
       " 'D.A.R.Y.L. (1985)',\n",
       " 'Da Sweet Blood of Jesus (2014)',\n",
       " 'Dangerous Minds (1995)',\n",
       " \"Darby O'Gill and the Little People (1959)\",\n",
       " 'Dark Portals: The Chronicles of Vidocq  (Vidocq) (2001)',\n",
       " 'Date with an Angel (1987)',\n",
       " 'Davy Crockett, King of the Wild Frontier (1955)',\n",
       " 'Dead End (2003)',\n",
       " 'Dead Man Walking (1995)',\n",
       " \"Dead Men Don't Wear Plaid (1982)\",\n",
       " 'Dead or Alive: Final (2002)',\n",
       " 'Defending Your Life (1991)',\n",
       " 'Demolition Man (1993)',\n",
       " 'Despicable Me (2010)',\n",
       " 'Devil and Max Devlin, The (1981)',\n",
       " 'Dial M for Murder (1954)',\n",
       " 'Die Hard: With a Vengeance (1995)',\n",
       " 'Digimon: The Movie (2000)',\n",
       " 'Dinosaur (2000)',\n",
       " 'Discreet Charm of the Bourgeoisie, The (Charme discret de la bourgeoisie, Le) (1972)',\n",
       " 'District 13 (Banlieue 13) (2004)',\n",
       " 'Django Unchained (2012)',\n",
       " 'Doctor Dolittle (1967)',\n",
       " 'Dogma (1999)',\n",
       " 'Double Life of Veronique, The (Double Vie de VÃ©ronique, La) (1991)',\n",
       " 'Double, The (2011)',\n",
       " \"Doug's 1st Movie (1999)\",\n",
       " 'Down to Earth (2001)',\n",
       " \"Dr. Horrible's Sing-Along Blog (2008)\",\n",
       " 'Dr. Strangelove or: How I Learned to Stop Worrying and Love the Bomb (1964)',\n",
       " 'Dragonheart (1996)',\n",
       " 'Drop Dead Fred (1991)',\n",
       " 'Drop Zone (1994)',\n",
       " 'Dungeons & Dragons (2000)',\n",
       " 'Earth Girls Are Easy (1988)',\n",
       " \"Eight Crazy Nights (Adam Sandler's Eight Crazy Nights) (2002)\",\n",
       " 'Emerald Forest, The (1985)',\n",
       " 'Emerald Green (2016)',\n",
       " \"Emperor's New Groove, The (2000)\",\n",
       " 'Erik the Viking (1989)',\n",
       " 'Escape From Tomorrow (2013)',\n",
       " 'Escape from L.A. (1996)',\n",
       " 'Escape from New York (1981)',\n",
       " 'Evita (1996)',\n",
       " 'Ewok Adventure, The (a.k.a. Caravan of Courage: An Ewok Adventure) (1984)',\n",
       " 'Ewoks: The Battle for Endor (1985)',\n",
       " 'Executive Decision (1996)',\n",
       " 'Explorers (1985)',\n",
       " 'Extraordinary Adventures of AdÃ¨le Blanc-Sec, The (2010)',\n",
       " 'Eyes Without a Face (Yeux sans visage, Les) (1959)',\n",
       " 'Fantastic Mr. Fox (2009)',\n",
       " 'Far From Home: The Adventures of Yellow Dog (1995)',\n",
       " 'Fatal Beauty (1987)',\n",
       " 'Faust (1926)',\n",
       " 'FearDotCom (a.k.a. Fear.com) (a.k.a. Fear Dot Com) (2002)',\n",
       " 'Feast (2005)',\n",
       " 'Ferngully: The Last Rainforest (1992)',\n",
       " 'Finding Nemo (2003)',\n",
       " 'Fish Called Wanda, A (1988)',\n",
       " 'Fisher King, The (1991)',\n",
       " 'Fistful of Dollars, A (Per un pugno di dollari) (1964)',\n",
       " 'Fled (1996)',\n",
       " 'Flying Tigers (1942)',\n",
       " 'Fog, The (1980)',\n",
       " 'Following (1998)',\n",
       " \"Fool's Gold (2008)\",\n",
       " 'Forbidden Kingdom, The (2008)',\n",
       " 'Four Musketeers, The (1974)',\n",
       " 'Four Rooms (1995)',\n",
       " 'Frankenstein Must Be Destroyed (1969)',\n",
       " 'Freaks (1932)',\n",
       " 'Freeway (1996)',\n",
       " 'French Twist (Gazon maudit) (1995)',\n",
       " 'Fresh (1994)',\n",
       " 'Friday (1995)',\n",
       " 'Friday the 13th (1980)',\n",
       " 'Funny Face (1957)',\n",
       " 'G.I. Joe: The Movie (1987)',\n",
       " 'Georgia (1995)',\n",
       " 'Ghostbusters (a.k.a. Ghost Busters) (1984)',\n",
       " 'Gigli (2003)',\n",
       " 'Girl Who Played with Fire, The (Flickan som lekte med elden) (2009)',\n",
       " 'Gods Must Be Crazy, The (1980)',\n",
       " 'Godzilla (Gojira) (1954)',\n",
       " 'Goodbye Lover (1999)',\n",
       " 'Grand Day Out with Wallace and Gromit, A (1989)',\n",
       " 'Great Dictator, The (1940)',\n",
       " 'Great Race, The (1965)',\n",
       " 'Guilty of Romance (Koi no tsumi) (2011) ',\n",
       " 'Hanna (2011)',\n",
       " 'Happiness of the Katakuris, The (Katakuri-ke no kÃ´fuku) (2001)',\n",
       " 'Harlem Nights (1989)',\n",
       " 'Harry Potter and the Chamber of Secrets (2002)',\n",
       " 'Hate (Haine, La) (1995)',\n",
       " 'Heartbreakers (2001)',\n",
       " 'Heavenly Creatures (1994)',\n",
       " 'Hell Comes to Frogtown (1988)',\n",
       " 'Hellboy (2004)',\n",
       " 'Henry V (1989)',\n",
       " 'Henry: Portrait of a Serial Killer (1986)',\n",
       " 'Hercules (1997)',\n",
       " 'Hey Arnold! The Movie (2002)',\n",
       " 'Hideaway (1995)',\n",
       " 'High Rise (2015)',\n",
       " 'History of the World: Part I (1981)',\n",
       " 'Home (2015)',\n",
       " 'Honey, I Blew Up the Kid (1992)',\n",
       " 'Hook (1991)',\n",
       " 'Host, The (2013)',\n",
       " 'House of Games (1987)',\n",
       " 'How to Make an American Quilt (1995)',\n",
       " 'I Served the King of England (Obsluhoval jsem anglickÃ©ho krÃ¡le) (2006)',\n",
       " 'Ice Age (2002)',\n",
       " 'If Lucy Fell (1996)',\n",
       " 'In Time (2011)',\n",
       " 'In the Army Now (1994)',\n",
       " 'In the Bleak Midwinter (1995)',\n",
       " 'In the Line of Fire (1993)',\n",
       " 'Independence Day (a.k.a. ID4) (1996)',\n",
       " 'Indian in the Cupboard, The (1995)',\n",
       " 'Insomnia (1997)',\n",
       " 'Insomnia (2002)',\n",
       " 'Into the Woods (1991)',\n",
       " 'Into the Woods (2014)',\n",
       " 'Jean de Florette (1986)',\n",
       " 'Jewel of the Nile, The (1985)',\n",
       " 'Jimmy Neutron: Boy Genius (2001)',\n",
       " 'Johnny Mnemonic (1995)',\n",
       " 'Jonah: A VeggieTales Movie (2002)',\n",
       " 'Journey to the Center of the Earth (1959)',\n",
       " 'Judge Dredd (1995)',\n",
       " 'Judgment Night (1993)',\n",
       " 'Just Cause (1995)',\n",
       " 'Kaspar Hauser (1993)',\n",
       " 'Killer Movie (2008)',\n",
       " 'Killer, The (Die xue shuang xiong) (1989)',\n",
       " 'Killing Zoe (1994)',\n",
       " 'King Kong vs. Godzilla (Kingukongu tai Gojira) (1962)',\n",
       " \"King Solomon's Mines (1937)\",\n",
       " \"King Solomon's Mines (1950)\",\n",
       " 'King and I, The (1999)',\n",
       " 'Kiss of Death (1995)',\n",
       " 'La CÃ©rÃ©monie (1995)',\n",
       " 'Land Before Time III: The Time of the Great Giving (1995)',\n",
       " 'Land Before Time, The (1988)',\n",
       " 'Land and Freedom (Tierra y libertad) (1995)',\n",
       " 'Laputa: Castle in the Sky (TenkÃ» no shiro Rapyuta) (1986)',\n",
       " 'Lara Croft Tomb Raider: The Cradle of Life (2003)',\n",
       " 'Lassie (1994)',\n",
       " 'Last Action Hero (1993)',\n",
       " 'Last House on the Left, The (1972)',\n",
       " 'Last Man Standing (1996)',\n",
       " \"Last Man on Earth, The (Ultimo uomo della Terra, L') (1964)\",\n",
       " 'Last Mimzy, The (2007)',\n",
       " 'Last Unicorn, The (1982)',\n",
       " 'Leaving Las Vegas (1995)',\n",
       " 'Legal Eagles (1986)',\n",
       " 'Legends of the Fall (1994)',\n",
       " 'Lethal Weapon 2 (1989)',\n",
       " 'Lethal Weapon 3 (1992)',\n",
       " 'Lethal Weapon 4 (1998)',\n",
       " 'Librarian: Quest for the Spear, The (2004)',\n",
       " 'Life Is Beautiful (La Vita Ã¨ bella) (1997)',\n",
       " 'Lilo & Stitch (2002)',\n",
       " 'Little Shop of Horrors (1986)',\n",
       " 'Lonesome Dove (1989)',\n",
       " 'Looper (2012)',\n",
       " 'Lord of the Rings, The (1978)',\n",
       " 'Lord of the Rings: The Fellowship of the Ring, The (2001)',\n",
       " 'Lord of the Rings: The Two Towers, The (2002)',\n",
       " 'Losers, The (2010)',\n",
       " 'Luna Papa (1999)',\n",
       " 'LÃ©on: The Professional (a.k.a. The Professional) (LÃ©on) (1994)',\n",
       " 'Machine Girl, The (Kataude mashin gÃ¢ru) (2008)',\n",
       " \"Man Bites Dog (C'est arrivÃ© prÃ¨s de chez vous) (1992)\",\n",
       " 'Man Who Knew Too Little, The (1997)',\n",
       " 'Man Who Would Be King, The (1975)',\n",
       " 'Man in the Iron Mask, The (1998)',\n",
       " 'Man on Fire (2004)',\n",
       " 'Many Adventures of Winnie the Pooh, The (1977)',\n",
       " 'Mars Attacks! (1996)',\n",
       " 'Maverick (1994)',\n",
       " 'Medallion, The (2003)',\n",
       " 'Meet the Feebles (1989)',\n",
       " 'Men in Black II (a.k.a. MIIB) (a.k.a. MIB 2) (2002)',\n",
       " 'Merlin (1998)',\n",
       " 'Midnight Run (1988)',\n",
       " 'Milagro Beanfield War (1988)',\n",
       " 'Miss Congeniality 2: Armed and Fabulous (2005)',\n",
       " 'Mister Roberts (1955)',\n",
       " 'MisÃ©rables, Les (1995)',\n",
       " 'Mod Squad, The (1999)',\n",
       " 'Monday (2000)',\n",
       " 'Monster House (2006)',\n",
       " 'Monsters, Inc. (2001)',\n",
       " 'Mortal Kombat: Annihilation (1997)',\n",
       " 'Mr. & Mrs. Smith (2005)',\n",
       " 'Mulholland Drive (2001)',\n",
       " 'Muppet Movie, The (1979)',\n",
       " 'Muppet Treasure Island (1996)',\n",
       " 'Murder at 1600 (1997)',\n",
       " 'Musketeer, The (2001)',\n",
       " 'Mystery Science Theater 3000: The Movie (1996)',\n",
       " 'National Treasure (2004)',\n",
       " 'Natural Born Killers (1994)',\n",
       " 'Net, The (1995)',\n",
       " 'NeverEnding Story III, The (1994)',\n",
       " 'New Adventures of Pippi Longstocking, The (1988)',\n",
       " 'Newsies (1992)',\n",
       " 'Nobody Loves Me (Keiner liebt mich) (1994)',\n",
       " 'North Pole: Open For Christmas (2015)',\n",
       " 'North by Northwest (1959)',\n",
       " 'Nothing But Trouble (1991)',\n",
       " 'Nutty Professor, The (1963)',\n",
       " 'O Brother, Where Art Thou? (2000)',\n",
       " 'Old Man and the Sea, The (1958)',\n",
       " 'Oliver & Company (1988)',\n",
       " \"On Her Majesty's Secret Service (1969)\",\n",
       " \"Once Upon a Time in the West (C'era una volta il West) (1968)\",\n",
       " 'One Man Band (2005)',\n",
       " 'One Tough Cop (1998)',\n",
       " 'Orlando (1992)',\n",
       " 'Othello (1995)',\n",
       " 'Pearl Harbor (2001)',\n",
       " 'Perfect World, A (1993)',\n",
       " 'Persuasion (1995)',\n",
       " 'Peter Pan (1953)',\n",
       " 'Peter Pan (2003)',\n",
       " 'Phantom, The (1996)',\n",
       " 'Picture of Dorian Gray, The (1945)',\n",
       " \"Pirates of the Caribbean: At World's End (2007)\",\n",
       " 'Pirates of the Caribbean: The Curse of the Black Pearl (2003)',\n",
       " 'Pixel Perfect (2004)',\n",
       " 'Planet 51 (2009)',\n",
       " 'Pleasantville (1998)',\n",
       " 'Pokemon 4 Ever (a.k.a. PokÃ©mon 4: The Movie) (2002)',\n",
       " 'PokÃ©mon: The First Movie (1998)',\n",
       " 'Poseidon Adventure, The (1972)',\n",
       " 'Powerpuff Girls, The (2002)',\n",
       " 'Price of Milk, The (2000)',\n",
       " 'Prince of Egypt, The (1998)',\n",
       " 'Psycho II (1983)',\n",
       " 'Puppet Masters, The (1994)',\n",
       " 'Pure Formality, A (Pura formalitÃ\\xa0, Una) (1994)',\n",
       " 'Purple Rose of Cairo, The (1985)',\n",
       " \"Pusher III: I'm the Angel of Death (2005)\",\n",
       " 'Quest for Camelot (1998)',\n",
       " 'Quigley Down Under (1990)',\n",
       " 'Raiders of the Lost Ark (Indiana Jones and the Raiders of the Lost Ark) (1981)',\n",
       " 'Ratatouille (2007)',\n",
       " 'Rear Window (1954)',\n",
       " 'Red Balloon, The (Ballon rouge, Le) (1956)',\n",
       " 'Red Rock West (1992)',\n",
       " 'Repo Man (1984)',\n",
       " 'Rescuers Down Under, The (1990)',\n",
       " 'Restoration (1995)',\n",
       " 'Return from Witch Mountain (1978)',\n",
       " 'Return of Jafar, The (1994)',\n",
       " 'Return to Snowy River (a.k.a. The Man From Snowy River II) (1988)',\n",
       " 'Ride the High Country (1962)',\n",
       " 'Rio Grande (1950)',\n",
       " 'River Wild, The (1994)',\n",
       " 'Robin Hood: Prince of Thieves (1991)',\n",
       " 'RoboCop (1987)',\n",
       " 'RoboCop 2 (1990)',\n",
       " 'RoboCop 3 (1993)',\n",
       " 'Rock-A-Doodle (1991)',\n",
       " 'Rollerball (1975)',\n",
       " 'Rollo and the Woods Sprite (RÃ¶lli ja metsÃ¤nhenki) (2001)',\n",
       " 'Ruby Red (2013)',\n",
       " 'Rudolph, the Red-Nosed Reindeer (1964)',\n",
       " 'Rules of Attraction, The (2002)',\n",
       " 'Sabrina (1995)',\n",
       " 'Safe (1995)',\n",
       " 'Sands of Iwo Jima (1949)',\n",
       " 'Saving Private Ryan (1998)',\n",
       " 'Saw (2003)',\n",
       " 'Scooby-Doo (2002)',\n",
       " 'Scream 2 (1997)',\n",
       " 'Scream 4 (2011)',\n",
       " 'Screamers (1995)',\n",
       " 'Scrooged (1988)',\n",
       " 'Secret Life of Walter Mitty, The (1947)',\n",
       " 'Secret World of Arrietty, The (Kari-gurashi no Arietti) (2010)',\n",
       " 'Serial Mom (1994)',\n",
       " 'Set It Off (1996)',\n",
       " 'Seven Samurai (Shichinin no samurai) (1954)',\n",
       " 'Shadow, The (1994)',\n",
       " 'Shanghai Surprise (1986)',\n",
       " 'Shanghai Triad (Yao a yao yao dao waipo qiao) (1995)',\n",
       " 'Shenandoah (1965)',\n",
       " 'Simple Wish, A (1997)',\n",
       " 'Sinbad and the Eye of the Tiger (1977)',\n",
       " 'Sleeper (1973)',\n",
       " 'Snakes on a Plane (2006)',\n",
       " 'Snatch (2000)',\n",
       " 'Snowpiercer (2013)',\n",
       " 'Some Like It Hot (1959)',\n",
       " 'Something Wicked This Way Comes (1983)',\n",
       " 'Song of the South (1946)',\n",
       " \"Sorcerer's Apprentice, The (2010)\",\n",
       " 'Sorrow (2015)',\n",
       " 'South Pacific (1958)',\n",
       " 'Space Buddies (2009)',\n",
       " 'Spanish Prisoner, The (1997)',\n",
       " 'Spartacus (1960)',\n",
       " 'Species II (1998)',\n",
       " 'Splash (1984)',\n",
       " 'Stagecoach (1939)',\n",
       " 'Stand by Me (1986)',\n",
       " 'Star Trek IV: The Voyage Home (1986)',\n",
       " 'Star Trek V: The Final Frontier (1989)',\n",
       " 'Star Trek: First Contact (1996)',\n",
       " 'Star Wars: Episode IV - A New Hope (1977)',\n",
       " 'Star Wars: Episode VI - Return of the Jedi (1983)',\n",
       " 'Stardust (2007)',\n",
       " 'Stargate (1994)',\n",
       " 'Steamboat Willie (1928)',\n",
       " 'Stir of Echoes (1999)',\n",
       " 'Street Fighter (1994)',\n",
       " 'Striking Distance (1993)',\n",
       " 'Stripes (1981)',\n",
       " 'Striptease (1996)',\n",
       " 'Stunt Man, The (1980)',\n",
       " 'Suicide Squad (2016)',\n",
       " 'Supercop (Police Story 3: Supercop) (Jing cha gu shi III: Chao ji jing cha) (1992)',\n",
       " 'Supercop 2 (Project S) (Chao ji ji hua) (1993)',\n",
       " 'Surviving the Game (1994)',\n",
       " 'Swan Princess, The (1994)',\n",
       " 'Switchback (1997)',\n",
       " 'Sword in the Stone, The (1963)',\n",
       " 'Talk of the Town, The (1942)',\n",
       " 'Tangled Ever After (2012)',\n",
       " 'Tarzan (1999)',\n",
       " 'Tea with Mussolini (1999)',\n",
       " 'The Alamo (2004)',\n",
       " \"The Devil's Advocate (1997)\",\n",
       " 'The Mummy (2017)',\n",
       " 'Thin Man, The (1934)',\n",
       " 'Thirty-Two Short Films About Glenn Gould (1993)',\n",
       " 'Three Caballeros, The (1945)',\n",
       " 'Thumbelina (1994)',\n",
       " 'Tiger and the Snow, The (La tigre e la neve) (2005)',\n",
       " 'Time Lapse (2014)',\n",
       " 'Timecop (1994)',\n",
       " 'To Be or Not to Be (1942)',\n",
       " 'Tokyo Tribe (2014)',\n",
       " 'Tom and Huck (1995)',\n",
       " 'Touch (1997)',\n",
       " 'Toy Story 2 (1999)',\n",
       " 'Toys (1992)',\n",
       " 'Train of Life (Train de vie) (1998)',\n",
       " 'True Crime (1996)',\n",
       " 'True Grit (1969)',\n",
       " 'True Lies (1994)',\n",
       " 'Twilight Saga: Breaking Dawn - Part 1, The (2011)',\n",
       " 'Two if by Sea (1996)',\n",
       " 'Underneath (1995)',\n",
       " 'Up (2009)',\n",
       " 'Valiant (2005)',\n",
       " 'Van Helsing (2004)',\n",
       " 'Village of the Damned (1995)',\n",
       " 'Virtuosity (1995)',\n",
       " 'Wagons East (1994)',\n",
       " 'Walkabout (1971)',\n",
       " 'Walking Dead, The (1995)',\n",
       " 'Wallace & Gromit: The Wrong Trousers (1993)',\n",
       " 'War of the Worlds, The (1953)',\n",
       " \"We're Back! A Dinosaur's Story (1993)\",\n",
       " 'Were the World Mine (2008)',\n",
       " 'What Dreams May Come (1998)',\n",
       " 'What Happened Was... (1994)',\n",
       " \"What's Love Got to Do with It? (1993)\",\n",
       " 'When Night Is Falling (1995)',\n",
       " 'Wild Bunch, The (1969)',\n",
       " 'Wild Things (1998)',\n",
       " 'Wings of Desire (Himmel Ã¼ber Berlin, Der) (1987)',\n",
       " 'Witches, The (1990)',\n",
       " 'Wiz, The (1978)',\n",
       " 'Wizards of Waverly Place: The Movie (2009)',\n",
       " 'Young Guns II (1990)',\n",
       " \"Young Poisoner's Handbook, The (1995)\",\n",
       " 'Â¡Three Amigos! (1986)'}"
      ]
     },
     "execution_count": 51,
     "metadata": {},
     "output_type": "execute_result"
    }
   ],
   "source": [
    "def get_recommendation_content_model(userId):\n",
    "    \"\"\"\n",
    "    Calculates top movies to be recommended to user based on movie user has watched.  \n",
    "    :param userId: userid of user\n",
    "    :return: Titles of movies recommended to user\n",
    "    \"\"\"\n",
    "    recommended_movie_list = []\n",
    "    movie_list = []\n",
    "    df_rating_filtered = df_ratings[df_ratings[\"userId\"]== userId]\n",
    "    for key, row in df_rating_filtered.iterrows():\n",
    "        movie_list.append((df_movies[\"title\"][row[\"movieId\"]==df_movies[\"movieId\"]]).values) \n",
    "    for index, movie in enumerate(movie_list):\n",
    "        for key, movie_recommended in get_recommendations_based_on_genres(movie[0]).iteritems():\n",
    "            recommended_movie_list.append(movie_recommended)\n",
    "\n",
    "    # removing already watched movie from recommended list    \n",
    "    for movie_title in recommended_movie_list:\n",
    "        if movie_title in movie_list:\n",
    "            recommended_movie_list.remove(movie_title)\n",
    "    \n",
    "    return set(recommended_movie_list)\n",
    "get_recommendation_content_model(1)"
   ]
  },
  {
   "cell_type": "code",
   "execution_count": 52,
   "metadata": {},
   "outputs": [],
   "source": [
    "from sklearn.neighbors import KNeighborsClassifier  \n",
    "def get_movie_label(movie_id):\n",
    "    \"\"\"\n",
    "    Get the cluster label to which movie belongs by KNN algorithm.  \n",
    "    :param movie_id: movie id\n",
    "    :return: genres label to movie belong\n",
    "    \"\"\"\n",
    "    classifier = KNeighborsClassifier(n_neighbors=5)\n",
    "    x= tfidf_movies_genres_matrix\n",
    "    y = df_movies.iloc[:,-1]\n",
    "    classifier.fit(x, y)\n",
    "    y_pred = classifier.predict(tfidf_movies_genres_matrix[movie_id])\n",
    "    return y_pred"
   ]
  },
  {
   "cell_type": "code",
   "execution_count": 53,
   "metadata": {},
   "outputs": [
    {
     "name": "stdout",
     "output_type": "stream",
     "text": [
      "Hit:0.9126052145350031\n",
      "Fault:0.08739478546499692\n"
     ]
    }
   ],
   "source": [
    "true_count = 0\n",
    "false_count = 0\n",
    "def evaluate_content_based_model():\n",
    "    \"\"\"\n",
    "    Evaluate content based model.  \n",
    "    \"\"\"\n",
    "    for key, colums in df_movies.iterrows():\n",
    "        movies_recommended_by_model = get_recommendations_based_on_genres(colums[\"title\"])\n",
    "        predicted_genres  = get_movie_label(movies_recommended_by_model.index)\n",
    "        for predicted_genre in predicted_genres:\n",
    "            global true_count, false_count\n",
    "            if predicted_genre == colums[\"genres\"]:\n",
    "                true_count = true_count+1\n",
    "            else:\n",
    "#                 print(colums[\"genres\"])\n",
    "#                 print(predicted_genre)\n",
    "                false_count = false_count +1\n",
    "evaluate_content_based_model()\n",
    "total = true_count + false_count\n",
    "print(\"Hit:\"+ str(true_count/total))\n",
    "print(\"Fault:\" + str(false_count/total))"
   ]
  },
  {
   "cell_type": "code",
   "execution_count": null,
   "metadata": {},
   "outputs": [],
   "source": []
  }
 ],
 "metadata": {
  "kernelspec": {
   "display_name": "Python (learn-env)",
   "language": "python",
   "name": "learn-env"
  },
  "language_info": {
   "codemirror_mode": {
    "name": "ipython",
    "version": 3
   },
   "file_extension": ".py",
   "mimetype": "text/x-python",
   "name": "python",
   "nbconvert_exporter": "python",
   "pygments_lexer": "ipython3",
   "version": "3.8.5"
  }
 },
 "nbformat": 4,
 "nbformat_minor": 4
}
